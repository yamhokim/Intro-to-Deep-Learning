{
  "cells": [
    {
      "cell_type": "markdown",
      "metadata": {
        "id": "OhtOdxzd1ppr"
      },
      "source": [
        "# Lab 4: Data Imputation using an Autoencoder\n",
        "\n",
        "\n",
        "In this lab, you will build and train an autoencoder to impute (or \"fill in\") missing data.\n",
        "\n",
        "We will be using the\n",
        "Adult Data Set provided by the UCI Machine Learning Repository [1], available\n",
        "at https://archive.ics.uci.edu/ml/datasets/adult.\n",
        "The data set contains census record files of adults, including their\n",
        "age, martial status, the type of work they do, and other features.\n",
        "\n",
        "Normally, people use this data set to build a supervised classification\n",
        "model to classify whether a person is a high income earner.\n",
        "We will not use the dataset for this original intended purpose.\n",
        "\n",
        "Instead, we will perform the task of imputing (or \"filling in\") missing values in the dataset. For example,\n",
        "we may be missing one person's martial status, and another person's age, and\n",
        "a third person's level of education. Our model will predict the missing features\n",
        "based on the information that we do have about each person.\n",
        "\n",
        "We will use a variation of a denoising autoencoder to solve this data imputation\n",
        "problem. Our autoencoder will be trained using inputs that have one categorical feature artificially\n",
        "removed, and the goal of the autoencoder is to correctly reconstruct all features,\n",
        "including the one removed from the input.\n",
        "\n",
        "In the process, you are expected to learn to:\n",
        "\n",
        "1. Clean and process continuous and categorical data for machine learning.\n",
        "2. Implement an autoencoder that takes continuous and categorical (one-hot) inputs.\n",
        "3. Tune the hyperparameters of an autoencoder.\n",
        "4. Use baseline models to help interpret model performance.\n",
        "\n",
        "[1] Dua, D. and Karra Taniskidou, E. (2017). UCI Machine Learning Repository [http://archive.ics.uci.edu/ml]. Irvine, CA: University of California, School of Information and Computer Science.\n",
        "\n",
        "\n"
      ]
    },
    {
      "cell_type": "code",
      "execution_count": null,
      "metadata": {
        "collapsed": true,
        "id": "z3p8N43E1ppt",
        "jupyter": {
          "outputs_hidden": true
        }
      },
      "outputs": [],
      "source": [
        "import csv\n",
        "import numpy as np\n",
        "import random\n",
        "import torch\n",
        "import torch.utils.data\n",
        "import matplotlib.pyplot as plt"
      ]
    },
    {
      "cell_type": "markdown",
      "metadata": {
        "id": "8ROwtHcz1ppx"
      },
      "source": [
        "## Part 0\n",
        "\n",
        "We will be using a package called `pandas` for this assignment.\n",
        "\n",
        "If you are using Colab, `pandas` should already be available.\n",
        "If you are using your own computer,\n",
        "installation instructions for `pandas` are available here:\n",
        "https://pandas.pydata.org/pandas-docs/stable/install.html"
      ]
    },
    {
      "cell_type": "code",
      "execution_count": null,
      "metadata": {
        "collapsed": true,
        "id": "IXQ7BP151ppz",
        "jupyter": {
          "outputs_hidden": true
        }
      },
      "outputs": [],
      "source": [
        "import pandas as pd"
      ]
    },
    {
      "cell_type": "code",
      "source": [
        "global device\n",
        "device = torch.device(\"cuda:0\")"
      ],
      "metadata": {
        "id": "QsfeaVIDCvRi"
      },
      "execution_count": null,
      "outputs": []
    },
    {
      "cell_type": "markdown",
      "metadata": {
        "id": "hqXihb4Q1pp2"
      },
      "source": [
        "# Part 1. Data Cleaning [15 pt]\n",
        "\n",
        "The adult.data file is available at `https://archive.ics.uci.edu/ml/machine-learning-databases/adult/adult.data`\n",
        "\n",
        "The function `pd.read_csv` loads the adult.data file into a pandas dataframe.\n",
        "You can read about the pandas documentation for `pd.read_csv` at\n",
        "https://pandas.pydata.org/pandas-docs/stable/reference/api/pandas.read_csv.html"
      ]
    },
    {
      "cell_type": "code",
      "execution_count": null,
      "metadata": {
        "colab": {
          "base_uri": "https://localhost:8080/"
        },
        "collapsed": true,
        "id": "EOMItFKn1pp3",
        "jupyter": {
          "outputs_hidden": true
        },
        "outputId": "e230282c-a2c8-41c6-a279-afa1fcb4d264"
      },
      "outputs": [
        {
          "output_type": "stream",
          "name": "stderr",
          "text": [
            "<ipython-input-4-037957db2593>:3: ParserWarning: Length of header or names does not match length of data. This leads to a loss of data with index_col=False.\n",
            "  df = pd.read_csv(\n"
          ]
        }
      ],
      "source": [
        "header = ['age', 'work', 'fnlwgt', 'edu', 'yredu', 'marriage', 'occupation',\n",
        " 'relationship', 'race', 'sex', 'capgain', 'caploss', 'workhr', 'country']\n",
        "df = pd.read_csv(\n",
        "    \"https://archive.ics.uci.edu/ml/machine-learning-databases/adult/adult.data\",\n",
        "    names=header,\n",
        "    index_col=False)"
      ]
    },
    {
      "cell_type": "code",
      "execution_count": null,
      "metadata": {
        "colab": {
          "base_uri": "https://localhost:8080/"
        },
        "id": "62Ot405q1pp5",
        "outputId": "fb555b9e-7803-4a0d-9c9b-f09e866e848d",
        "scrolled": true
      },
      "outputs": [
        {
          "output_type": "execute_result",
          "data": {
            "text/plain": [
              "(32561, 14)"
            ]
          },
          "metadata": {},
          "execution_count": 5
        }
      ],
      "source": [
        "df.shape # there are 32561 rows (records) in the data frame, and 14 columns (features)"
      ]
    },
    {
      "cell_type": "markdown",
      "metadata": {
        "id": "Tr7YG-QY1pp8"
      },
      "source": [
        "### Part (a) Continuous Features [3 pt]\n",
        "\n",
        "For each of the columns `[\"age\", \"yredu\", \"capgain\", \"caploss\", \"workhr\"]`, report the minimum, maximum, and average value across the dataset.\n",
        "\n",
        "Then, normalize each of the features `[\"age\", \"yredu\", \"capgain\", \"caploss\", \"workhr\"]`\n",
        "so that their values are always between 0 and 1.\n",
        "Make sure that you are actually modifying the dataframe `df`.\n",
        "\n",
        "Like numpy arrays and torch tensors,\n",
        "pandas data frames can be sliced. For example, we can\n",
        "display the first 3 rows of the data frame (3 records) below."
      ]
    },
    {
      "cell_type": "code",
      "execution_count": null,
      "metadata": {
        "colab": {
          "base_uri": "https://localhost:8080/",
          "height": 143
        },
        "id": "9evSLsSa1pp9",
        "outputId": "2dce1b76-75e5-49be-935f-4a171ff869e2"
      },
      "outputs": [
        {
          "output_type": "execute_result",
          "data": {
            "text/plain": [
              "   age               work  fnlwgt         edu  yredu             marriage  \\\n",
              "0   39          State-gov   77516   Bachelors     13        Never-married   \n",
              "1   50   Self-emp-not-inc   83311   Bachelors     13   Married-civ-spouse   \n",
              "2   38            Private  215646     HS-grad      9             Divorced   \n",
              "\n",
              "           occupation    relationship    race    sex  capgain  caploss  \\\n",
              "0        Adm-clerical   Not-in-family   White   Male     2174        0   \n",
              "1     Exec-managerial         Husband   White   Male        0        0   \n",
              "2   Handlers-cleaners   Not-in-family   White   Male        0        0   \n",
              "\n",
              "   workhr         country  \n",
              "0      40   United-States  \n",
              "1      13   United-States  \n",
              "2      40   United-States  "
            ],
            "text/html": [
              "\n",
              "  <div id=\"df-f5728984-5e35-4f56-bb32-1f46c5fd1c72\">\n",
              "    <div class=\"colab-df-container\">\n",
              "      <div>\n",
              "<style scoped>\n",
              "    .dataframe tbody tr th:only-of-type {\n",
              "        vertical-align: middle;\n",
              "    }\n",
              "\n",
              "    .dataframe tbody tr th {\n",
              "        vertical-align: top;\n",
              "    }\n",
              "\n",
              "    .dataframe thead th {\n",
              "        text-align: right;\n",
              "    }\n",
              "</style>\n",
              "<table border=\"1\" class=\"dataframe\">\n",
              "  <thead>\n",
              "    <tr style=\"text-align: right;\">\n",
              "      <th></th>\n",
              "      <th>age</th>\n",
              "      <th>work</th>\n",
              "      <th>fnlwgt</th>\n",
              "      <th>edu</th>\n",
              "      <th>yredu</th>\n",
              "      <th>marriage</th>\n",
              "      <th>occupation</th>\n",
              "      <th>relationship</th>\n",
              "      <th>race</th>\n",
              "      <th>sex</th>\n",
              "      <th>capgain</th>\n",
              "      <th>caploss</th>\n",
              "      <th>workhr</th>\n",
              "      <th>country</th>\n",
              "    </tr>\n",
              "  </thead>\n",
              "  <tbody>\n",
              "    <tr>\n",
              "      <th>0</th>\n",
              "      <td>39</td>\n",
              "      <td>State-gov</td>\n",
              "      <td>77516</td>\n",
              "      <td>Bachelors</td>\n",
              "      <td>13</td>\n",
              "      <td>Never-married</td>\n",
              "      <td>Adm-clerical</td>\n",
              "      <td>Not-in-family</td>\n",
              "      <td>White</td>\n",
              "      <td>Male</td>\n",
              "      <td>2174</td>\n",
              "      <td>0</td>\n",
              "      <td>40</td>\n",
              "      <td>United-States</td>\n",
              "    </tr>\n",
              "    <tr>\n",
              "      <th>1</th>\n",
              "      <td>50</td>\n",
              "      <td>Self-emp-not-inc</td>\n",
              "      <td>83311</td>\n",
              "      <td>Bachelors</td>\n",
              "      <td>13</td>\n",
              "      <td>Married-civ-spouse</td>\n",
              "      <td>Exec-managerial</td>\n",
              "      <td>Husband</td>\n",
              "      <td>White</td>\n",
              "      <td>Male</td>\n",
              "      <td>0</td>\n",
              "      <td>0</td>\n",
              "      <td>13</td>\n",
              "      <td>United-States</td>\n",
              "    </tr>\n",
              "    <tr>\n",
              "      <th>2</th>\n",
              "      <td>38</td>\n",
              "      <td>Private</td>\n",
              "      <td>215646</td>\n",
              "      <td>HS-grad</td>\n",
              "      <td>9</td>\n",
              "      <td>Divorced</td>\n",
              "      <td>Handlers-cleaners</td>\n",
              "      <td>Not-in-family</td>\n",
              "      <td>White</td>\n",
              "      <td>Male</td>\n",
              "      <td>0</td>\n",
              "      <td>0</td>\n",
              "      <td>40</td>\n",
              "      <td>United-States</td>\n",
              "    </tr>\n",
              "  </tbody>\n",
              "</table>\n",
              "</div>\n",
              "      <button class=\"colab-df-convert\" onclick=\"convertToInteractive('df-f5728984-5e35-4f56-bb32-1f46c5fd1c72')\"\n",
              "              title=\"Convert this dataframe to an interactive table.\"\n",
              "              style=\"display:none;\">\n",
              "        \n",
              "  <svg xmlns=\"http://www.w3.org/2000/svg\" height=\"24px\"viewBox=\"0 0 24 24\"\n",
              "       width=\"24px\">\n",
              "    <path d=\"M0 0h24v24H0V0z\" fill=\"none\"/>\n",
              "    <path d=\"M18.56 5.44l.94 2.06.94-2.06 2.06-.94-2.06-.94-.94-2.06-.94 2.06-2.06.94zm-11 1L8.5 8.5l.94-2.06 2.06-.94-2.06-.94L8.5 2.5l-.94 2.06-2.06.94zm10 10l.94 2.06.94-2.06 2.06-.94-2.06-.94-.94-2.06-.94 2.06-2.06.94z\"/><path d=\"M17.41 7.96l-1.37-1.37c-.4-.4-.92-.59-1.43-.59-.52 0-1.04.2-1.43.59L10.3 9.45l-7.72 7.72c-.78.78-.78 2.05 0 2.83L4 21.41c.39.39.9.59 1.41.59.51 0 1.02-.2 1.41-.59l7.78-7.78 2.81-2.81c.8-.78.8-2.07 0-2.86zM5.41 20L4 18.59l7.72-7.72 1.47 1.35L5.41 20z\"/>\n",
              "  </svg>\n",
              "      </button>\n",
              "      \n",
              "  <style>\n",
              "    .colab-df-container {\n",
              "      display:flex;\n",
              "      flex-wrap:wrap;\n",
              "      gap: 12px;\n",
              "    }\n",
              "\n",
              "    .colab-df-convert {\n",
              "      background-color: #E8F0FE;\n",
              "      border: none;\n",
              "      border-radius: 50%;\n",
              "      cursor: pointer;\n",
              "      display: none;\n",
              "      fill: #1967D2;\n",
              "      height: 32px;\n",
              "      padding: 0 0 0 0;\n",
              "      width: 32px;\n",
              "    }\n",
              "\n",
              "    .colab-df-convert:hover {\n",
              "      background-color: #E2EBFA;\n",
              "      box-shadow: 0px 1px 2px rgba(60, 64, 67, 0.3), 0px 1px 3px 1px rgba(60, 64, 67, 0.15);\n",
              "      fill: #174EA6;\n",
              "    }\n",
              "\n",
              "    [theme=dark] .colab-df-convert {\n",
              "      background-color: #3B4455;\n",
              "      fill: #D2E3FC;\n",
              "    }\n",
              "\n",
              "    [theme=dark] .colab-df-convert:hover {\n",
              "      background-color: #434B5C;\n",
              "      box-shadow: 0px 1px 3px 1px rgba(0, 0, 0, 0.15);\n",
              "      filter: drop-shadow(0px 1px 2px rgba(0, 0, 0, 0.3));\n",
              "      fill: #FFFFFF;\n",
              "    }\n",
              "  </style>\n",
              "\n",
              "      <script>\n",
              "        const buttonEl =\n",
              "          document.querySelector('#df-f5728984-5e35-4f56-bb32-1f46c5fd1c72 button.colab-df-convert');\n",
              "        buttonEl.style.display =\n",
              "          google.colab.kernel.accessAllowed ? 'block' : 'none';\n",
              "\n",
              "        async function convertToInteractive(key) {\n",
              "          const element = document.querySelector('#df-f5728984-5e35-4f56-bb32-1f46c5fd1c72');\n",
              "          const dataTable =\n",
              "            await google.colab.kernel.invokeFunction('convertToInteractive',\n",
              "                                                     [key], {});\n",
              "          if (!dataTable) return;\n",
              "\n",
              "          const docLinkHtml = 'Like what you see? Visit the ' +\n",
              "            '<a target=\"_blank\" href=https://colab.research.google.com/notebooks/data_table.ipynb>data table notebook</a>'\n",
              "            + ' to learn more about interactive tables.';\n",
              "          element.innerHTML = '';\n",
              "          dataTable['output_type'] = 'display_data';\n",
              "          await google.colab.output.renderOutput(dataTable, element);\n",
              "          const docLink = document.createElement('div');\n",
              "          docLink.innerHTML = docLinkHtml;\n",
              "          element.appendChild(docLink);\n",
              "        }\n",
              "      </script>\n",
              "    </div>\n",
              "  </div>\n",
              "  "
            ]
          },
          "metadata": {},
          "execution_count": 6
        }
      ],
      "source": [
        "df[:3] # show the first 3 records"
      ]
    },
    {
      "cell_type": "markdown",
      "metadata": {
        "id": "gBOojI6W1pqA"
      },
      "source": [
        "Alternatively, we can slice based on column names,\n",
        "for example `df[\"race\"]`, `df[\"hr\"]`, or even index multiple columns\n",
        "like below."
      ]
    },
    {
      "cell_type": "code",
      "execution_count": null,
      "metadata": {
        "colab": {
          "base_uri": "https://localhost:8080/",
          "height": 143
        },
        "id": "4v6pp73A1pqB",
        "outputId": "9f5738ab-9f06-4266-b248-fa984002cc33"
      },
      "outputs": [
        {
          "output_type": "execute_result",
          "data": {
            "text/plain": [
              "   age  yredu  capgain  caploss  workhr\n",
              "0   39     13     2174        0      40\n",
              "1   50     13        0        0      13\n",
              "2   38      9        0        0      40"
            ],
            "text/html": [
              "\n",
              "  <div id=\"df-505aa518-262a-49a8-9564-bfdeba26c4e4\">\n",
              "    <div class=\"colab-df-container\">\n",
              "      <div>\n",
              "<style scoped>\n",
              "    .dataframe tbody tr th:only-of-type {\n",
              "        vertical-align: middle;\n",
              "    }\n",
              "\n",
              "    .dataframe tbody tr th {\n",
              "        vertical-align: top;\n",
              "    }\n",
              "\n",
              "    .dataframe thead th {\n",
              "        text-align: right;\n",
              "    }\n",
              "</style>\n",
              "<table border=\"1\" class=\"dataframe\">\n",
              "  <thead>\n",
              "    <tr style=\"text-align: right;\">\n",
              "      <th></th>\n",
              "      <th>age</th>\n",
              "      <th>yredu</th>\n",
              "      <th>capgain</th>\n",
              "      <th>caploss</th>\n",
              "      <th>workhr</th>\n",
              "    </tr>\n",
              "  </thead>\n",
              "  <tbody>\n",
              "    <tr>\n",
              "      <th>0</th>\n",
              "      <td>39</td>\n",
              "      <td>13</td>\n",
              "      <td>2174</td>\n",
              "      <td>0</td>\n",
              "      <td>40</td>\n",
              "    </tr>\n",
              "    <tr>\n",
              "      <th>1</th>\n",
              "      <td>50</td>\n",
              "      <td>13</td>\n",
              "      <td>0</td>\n",
              "      <td>0</td>\n",
              "      <td>13</td>\n",
              "    </tr>\n",
              "    <tr>\n",
              "      <th>2</th>\n",
              "      <td>38</td>\n",
              "      <td>9</td>\n",
              "      <td>0</td>\n",
              "      <td>0</td>\n",
              "      <td>40</td>\n",
              "    </tr>\n",
              "  </tbody>\n",
              "</table>\n",
              "</div>\n",
              "      <button class=\"colab-df-convert\" onclick=\"convertToInteractive('df-505aa518-262a-49a8-9564-bfdeba26c4e4')\"\n",
              "              title=\"Convert this dataframe to an interactive table.\"\n",
              "              style=\"display:none;\">\n",
              "        \n",
              "  <svg xmlns=\"http://www.w3.org/2000/svg\" height=\"24px\"viewBox=\"0 0 24 24\"\n",
              "       width=\"24px\">\n",
              "    <path d=\"M0 0h24v24H0V0z\" fill=\"none\"/>\n",
              "    <path d=\"M18.56 5.44l.94 2.06.94-2.06 2.06-.94-2.06-.94-.94-2.06-.94 2.06-2.06.94zm-11 1L8.5 8.5l.94-2.06 2.06-.94-2.06-.94L8.5 2.5l-.94 2.06-2.06.94zm10 10l.94 2.06.94-2.06 2.06-.94-2.06-.94-.94-2.06-.94 2.06-2.06.94z\"/><path d=\"M17.41 7.96l-1.37-1.37c-.4-.4-.92-.59-1.43-.59-.52 0-1.04.2-1.43.59L10.3 9.45l-7.72 7.72c-.78.78-.78 2.05 0 2.83L4 21.41c.39.39.9.59 1.41.59.51 0 1.02-.2 1.41-.59l7.78-7.78 2.81-2.81c.8-.78.8-2.07 0-2.86zM5.41 20L4 18.59l7.72-7.72 1.47 1.35L5.41 20z\"/>\n",
              "  </svg>\n",
              "      </button>\n",
              "      \n",
              "  <style>\n",
              "    .colab-df-container {\n",
              "      display:flex;\n",
              "      flex-wrap:wrap;\n",
              "      gap: 12px;\n",
              "    }\n",
              "\n",
              "    .colab-df-convert {\n",
              "      background-color: #E8F0FE;\n",
              "      border: none;\n",
              "      border-radius: 50%;\n",
              "      cursor: pointer;\n",
              "      display: none;\n",
              "      fill: #1967D2;\n",
              "      height: 32px;\n",
              "      padding: 0 0 0 0;\n",
              "      width: 32px;\n",
              "    }\n",
              "\n",
              "    .colab-df-convert:hover {\n",
              "      background-color: #E2EBFA;\n",
              "      box-shadow: 0px 1px 2px rgba(60, 64, 67, 0.3), 0px 1px 3px 1px rgba(60, 64, 67, 0.15);\n",
              "      fill: #174EA6;\n",
              "    }\n",
              "\n",
              "    [theme=dark] .colab-df-convert {\n",
              "      background-color: #3B4455;\n",
              "      fill: #D2E3FC;\n",
              "    }\n",
              "\n",
              "    [theme=dark] .colab-df-convert:hover {\n",
              "      background-color: #434B5C;\n",
              "      box-shadow: 0px 1px 3px 1px rgba(0, 0, 0, 0.15);\n",
              "      filter: drop-shadow(0px 1px 2px rgba(0, 0, 0, 0.3));\n",
              "      fill: #FFFFFF;\n",
              "    }\n",
              "  </style>\n",
              "\n",
              "      <script>\n",
              "        const buttonEl =\n",
              "          document.querySelector('#df-505aa518-262a-49a8-9564-bfdeba26c4e4 button.colab-df-convert');\n",
              "        buttonEl.style.display =\n",
              "          google.colab.kernel.accessAllowed ? 'block' : 'none';\n",
              "\n",
              "        async function convertToInteractive(key) {\n",
              "          const element = document.querySelector('#df-505aa518-262a-49a8-9564-bfdeba26c4e4');\n",
              "          const dataTable =\n",
              "            await google.colab.kernel.invokeFunction('convertToInteractive',\n",
              "                                                     [key], {});\n",
              "          if (!dataTable) return;\n",
              "\n",
              "          const docLinkHtml = 'Like what you see? Visit the ' +\n",
              "            '<a target=\"_blank\" href=https://colab.research.google.com/notebooks/data_table.ipynb>data table notebook</a>'\n",
              "            + ' to learn more about interactive tables.';\n",
              "          element.innerHTML = '';\n",
              "          dataTable['output_type'] = 'display_data';\n",
              "          await google.colab.output.renderOutput(dataTable, element);\n",
              "          const docLink = document.createElement('div');\n",
              "          docLink.innerHTML = docLinkHtml;\n",
              "          element.appendChild(docLink);\n",
              "        }\n",
              "      </script>\n",
              "    </div>\n",
              "  </div>\n",
              "  "
            ]
          },
          "metadata": {},
          "execution_count": 7
        }
      ],
      "source": [
        "subdf = df[[\"age\", \"yredu\", \"capgain\", \"caploss\", \"workhr\"]]\n",
        "subdf[:3] # show the first 3 records"
      ]
    },
    {
      "cell_type": "markdown",
      "metadata": {
        "id": "2Nru2P0E1pqD"
      },
      "source": [
        "Numpy works nicely with pandas, like below:"
      ]
    },
    {
      "cell_type": "code",
      "execution_count": null,
      "metadata": {
        "colab": {
          "base_uri": "https://localhost:8080/"
        },
        "id": "JXrS6tjp1pqE",
        "outputId": "282cdb38-f72c-4d9a-c5d5-f2c0a0bb002d"
      },
      "outputs": [
        {
          "output_type": "execute_result",
          "data": {
            "text/plain": [
              "2842700"
            ]
          },
          "metadata": {},
          "execution_count": 8
        }
      ],
      "source": [
        "np.sum(subdf[\"caploss\"])"
      ]
    },
    {
      "cell_type": "markdown",
      "metadata": {
        "id": "Mv5mbxDM1pqH"
      },
      "source": [
        "Just like numpy arrays, you can modify\n",
        "entire columns of data rather than one scalar element at a time.\n",
        "For example, the code  \n",
        "\n",
        "`df[\"age\"] = df[\"age\"] + 1`\n",
        "\n",
        "would increment everyone's age by 1."
      ]
    },
    {
      "cell_type": "code",
      "execution_count": null,
      "metadata": {
        "colab": {
          "base_uri": "https://localhost:8080/"
        },
        "collapsed": true,
        "id": "k5rlWD7-1pqH",
        "jupyter": {
          "outputs_hidden": true
        },
        "outputId": "0175722c-4c0b-465c-f6e6-00a1c766ce61"
      },
      "outputs": [
        {
          "output_type": "stream",
          "name": "stdout",
          "text": [
            "The max age is: 90 | The min age is: 17 | The mean age is: 38.58164675532078\n",
            "The max yredu is: 16 | The min yredu is: 1 | The mean yredu is: 10.0806793403151\n",
            "The max capgain is: 99999 | The min capgain is: 0 | The mean capgain is: 1077.6488437087312\n",
            "The max caploss is: 4356 | The min caploss is: 0 | The mean caploss is: 87.303829734959\n",
            "The max workhr is: 99 | The min workhr is: 1 | The mean workhr is: 40.437455852092995\n"
          ]
        }
      ],
      "source": [
        "# Age statistics\n",
        "age_max = df[\"age\"].max()\n",
        "age_min = df[\"age\"].min()\n",
        "age_mean = df[\"age\"].mean()\n",
        "\n",
        "print(\"The max age is:\", age_max, \"| The min age is:\", age_min, \"| The mean age is:\", age_mean)\n",
        "# Yredu statistics\n",
        "yredu_max = df[\"yredu\"].max()\n",
        "yredu_min = df[\"yredu\"].min()\n",
        "yredu_mean = df[\"yredu\"].mean()\n",
        "print(\"The max yredu is:\", yredu_max, \"| The min yredu is:\", yredu_min, \"| The mean yredu is:\", yredu_mean)\n",
        "\n",
        "# Capgain statistics\n",
        "capgain_max = df[\"capgain\"].max()\n",
        "capgain_min = df[\"capgain\"].min()\n",
        "capgain_mean = df[\"capgain\"].mean()\n",
        "print(\"The max capgain is:\", capgain_max, \"| The min capgain is:\", capgain_min, \"| The mean capgain is:\", capgain_mean)\n",
        "\n",
        "# Caploss statistics\n",
        "caploss_max = df[\"caploss\"].max()\n",
        "caploss_min = df[\"caploss\"].min()\n",
        "caploss_mean = df[\"caploss\"].mean()\n",
        "print(\"The max caploss is:\", caploss_max, \"| The min caploss is:\", caploss_min, \"| The mean caploss is:\", caploss_mean)\n",
        "\n",
        "#Workhr statistics\n",
        "workhr_max = df[\"workhr\"].max()\n",
        "workhr_min = df[\"workhr\"].min()\n",
        "workhr_mean = df[\"workhr\"].mean()\n",
        "print(\"The max workhr is:\", workhr_max, \"| The min workhr is:\", workhr_min, \"| The mean workhr is:\", workhr_mean)"
      ]
    },
    {
      "cell_type": "code",
      "source": [
        "# Normalized values\n",
        "df[\"age\"] = (df[\"age\"]-df[\"age\"].min())/(df[\"age\"].max()-df[\"age\"].min())\n",
        "\n",
        "df[\"yredu\"] = (df[\"yredu\"]-df[\"yredu\"].min())/(df[\"yredu\"].max()-df[\"yredu\"].min())\n",
        "\n",
        "df[\"capgain\"] = (df[\"capgain\"]-df[\"capgain\"].min())/(df[\"capgain\"].max()-df[\"capgain\"].min())\n",
        "\n",
        "df[\"caploss\"] = (df[\"caploss\"]-df[\"caploss\"].min())/(df[\"caploss\"].max()-df[\"caploss\"].min())\n",
        "\n",
        "df[\"workhr\"] = (df[\"workhr\"]-df[\"workhr\"].min())/(df[\"workhr\"].max()-df[\"workhr\"].min())"
      ],
      "metadata": {
        "id": "31FgwsuneFO5"
      },
      "execution_count": null,
      "outputs": []
    },
    {
      "cell_type": "markdown",
      "metadata": {
        "id": "qbfMly4R1pqK"
      },
      "source": [
        "### Part (b) Categorical Features [1 pt]\n",
        "\n",
        "What percentage of people in our data set are male? Note that the data labels all have an unfortunate space in the beginning, e.g. \" Male\" instead of \"Male\".\n",
        "\n",
        "What percentage of people in our data set are female?"
      ]
    },
    {
      "cell_type": "code",
      "execution_count": null,
      "metadata": {
        "colab": {
          "base_uri": "https://localhost:8080/"
        },
        "id": "DjAjcsB_1pqK",
        "outputId": "4869d5e3-9179-46c9-de32-ee026d6deb48"
      },
      "outputs": [
        {
          "output_type": "stream",
          "name": "stdout",
          "text": [
            "The percentage of people that are female in the dataset is: 0.33079450876815825\n"
          ]
        }
      ],
      "source": [
        "# hint: you can do something like this in pandas\n",
        "total = sum(df[\"sex\"] == \" Male\") + sum(df[\"sex\"] == \" Female\")\n",
        "female = sum(df[\"sex\"] == \" Female\")\n",
        "percentage = female/total\n",
        "print(\"The percentage of people that are female in the dataset is:\", percentage)"
      ]
    },
    {
      "cell_type": "markdown",
      "metadata": {
        "id": "eGVw7pqL1pqN"
      },
      "source": [
        "### Part (c) [2 pt]\n",
        "\n",
        "Before proceeding, we will modify our data frame in a couple more ways:\n",
        "\n",
        "1. We will restrict ourselves to using a subset of the features (to simplify our autoencoder)\n",
        "2. We will remove any records (rows) already containing missing values, and store them in a second dataframe. We will only use records without missing values to train our autoencoder.\n",
        "\n",
        "Both of these steps are done for you, below.\n",
        "\n",
        "How many records contained missing features? What percentage of records were removed?"
      ]
    },
    {
      "cell_type": "code",
      "execution_count": null,
      "metadata": {
        "collapsed": true,
        "id": "z6ewPUdv1pqO",
        "jupyter": {
          "outputs_hidden": true
        }
      },
      "outputs": [],
      "source": [
        "contcols = [\"age\", \"yredu\", \"capgain\", \"caploss\", \"workhr\"]\n",
        "catcols = [\"work\", \"marriage\", \"occupation\", \"edu\", \"relationship\", \"sex\"]\n",
        "features = contcols + catcols\n",
        "df = df[features]"
      ]
    },
    {
      "cell_type": "code",
      "execution_count": null,
      "metadata": {
        "collapsed": true,
        "id": "fjdVll5a1pqQ",
        "jupyter": {
          "outputs_hidden": true
        }
      },
      "outputs": [],
      "source": [
        "missing = pd.concat([df[c] == \" ?\" for c in catcols], axis=1).any(axis=1)\n",
        "df_with_missing = df[missing]\n",
        "df_not_missing = df[~missing]"
      ]
    },
    {
      "cell_type": "code",
      "source": [
        "print(len(df))\n",
        "print(len(df_with_missing))\n",
        "print(\"Therefore,\", len(df_with_missing), \"contained missing records and around\", len(df_with_missing)/len(df), \"percent of records were removed\")"
      ],
      "metadata": {
        "colab": {
          "base_uri": "https://localhost:8080/"
        },
        "id": "_i7VfWQdgPAo",
        "outputId": "baf873e5-b042-4a45-9e39-3ccdd9ce0343"
      },
      "execution_count": null,
      "outputs": [
        {
          "output_type": "stream",
          "name": "stdout",
          "text": [
            "32561\n",
            "1843\n",
            "Therefore, 1843 contained missing records and around 0.056601455729246644 percent of records were removed\n"
          ]
        }
      ]
    },
    {
      "cell_type": "markdown",
      "metadata": {
        "id": "XuEpndTQ1pqU"
      },
      "source": [
        "### Part (d) One-Hot Encoding [1 pt]\n",
        "\n",
        "What are all the possible values of the feature \"work\" in `df_not_missing`? You may find the Python function `set` useful."
      ]
    },
    {
      "cell_type": "code",
      "execution_count": null,
      "metadata": {
        "colab": {
          "base_uri": "https://localhost:8080/"
        },
        "collapsed": true,
        "id": "iKFh4owE1pqV",
        "jupyter": {
          "outputs_hidden": true
        },
        "outputId": "032ca808-1847-4edd-80c7-50e13ec55c61"
      },
      "outputs": [
        {
          "output_type": "stream",
          "name": "stdout",
          "text": [
            "{'relationship', 'work', 'capgain', 'yredu', 'sex', 'age', 'edu', 'caploss', 'marriage', 'occupation', 'workhr'}\n"
          ]
        }
      ],
      "source": [
        "features = set(df_not_missing)\n",
        "print(features)"
      ]
    },
    {
      "cell_type": "markdown",
      "metadata": {
        "id": "COv3HaKr1pqY"
      },
      "source": [
        "We will be using a one-hot encoding to represent each of the categorical variables.\n",
        "Our autoencoder will be trained using these one-hot encodings.\n",
        "\n",
        "We will use the pandas function `get_dummies` to produce one-hot encodings\n",
        "for all of the categorical variables in `df_not_missing`."
      ]
    },
    {
      "cell_type": "code",
      "execution_count": null,
      "metadata": {
        "collapsed": true,
        "id": "eKlSYmJg1pqZ",
        "jupyter": {
          "outputs_hidden": true
        }
      },
      "outputs": [],
      "source": [
        "data = pd.get_dummies(df_not_missing)"
      ]
    },
    {
      "cell_type": "code",
      "execution_count": null,
      "metadata": {
        "colab": {
          "base_uri": "https://localhost:8080/",
          "height": 269
        },
        "collapsed": true,
        "id": "3y7nTZ7H1pqb",
        "jupyter": {
          "outputs_hidden": true
        },
        "scrolled": true,
        "outputId": "efcaad60-fa0a-4484-951c-ab2663c9e81a"
      },
      "outputs": [
        {
          "output_type": "execute_result",
          "data": {
            "text/plain": [
              "   age  yredu  capgain  caploss  workhr  work_ Federal-gov  work_ Local-gov  \\\n",
              "0   39     13     2174        0      40                  0                0   \n",
              "1   50     13        0        0      13                  0                0   \n",
              "2   38      9        0        0      40                  0                0   \n",
              "\n",
              "   work_ Private  work_ Self-emp-inc  work_ Self-emp-not-inc  ...  \\\n",
              "0              0                   0                       0  ...   \n",
              "1              0                   0                       1  ...   \n",
              "2              1                   0                       0  ...   \n",
              "\n",
              "   edu_ Prof-school  edu_ Some-college  relationship_ Husband  \\\n",
              "0                 0                  0                      0   \n",
              "1                 0                  0                      1   \n",
              "2                 0                  0                      0   \n",
              "\n",
              "   relationship_ Not-in-family  relationship_ Other-relative  \\\n",
              "0                            1                             0   \n",
              "1                            0                             0   \n",
              "2                            1                             0   \n",
              "\n",
              "   relationship_ Own-child  relationship_ Unmarried  relationship_ Wife  \\\n",
              "0                        0                        0                   0   \n",
              "1                        0                        0                   0   \n",
              "2                        0                        0                   0   \n",
              "\n",
              "   sex_ Female  sex_ Male  \n",
              "0            0          1  \n",
              "1            0          1  \n",
              "2            0          1  \n",
              "\n",
              "[3 rows x 57 columns]"
            ],
            "text/html": [
              "\n",
              "  <div id=\"df-d8275aa5-1236-4011-a3cf-5cbff255d569\">\n",
              "    <div class=\"colab-df-container\">\n",
              "      <div>\n",
              "<style scoped>\n",
              "    .dataframe tbody tr th:only-of-type {\n",
              "        vertical-align: middle;\n",
              "    }\n",
              "\n",
              "    .dataframe tbody tr th {\n",
              "        vertical-align: top;\n",
              "    }\n",
              "\n",
              "    .dataframe thead th {\n",
              "        text-align: right;\n",
              "    }\n",
              "</style>\n",
              "<table border=\"1\" class=\"dataframe\">\n",
              "  <thead>\n",
              "    <tr style=\"text-align: right;\">\n",
              "      <th></th>\n",
              "      <th>age</th>\n",
              "      <th>yredu</th>\n",
              "      <th>capgain</th>\n",
              "      <th>caploss</th>\n",
              "      <th>workhr</th>\n",
              "      <th>work_ Federal-gov</th>\n",
              "      <th>work_ Local-gov</th>\n",
              "      <th>work_ Private</th>\n",
              "      <th>work_ Self-emp-inc</th>\n",
              "      <th>work_ Self-emp-not-inc</th>\n",
              "      <th>...</th>\n",
              "      <th>edu_ Prof-school</th>\n",
              "      <th>edu_ Some-college</th>\n",
              "      <th>relationship_ Husband</th>\n",
              "      <th>relationship_ Not-in-family</th>\n",
              "      <th>relationship_ Other-relative</th>\n",
              "      <th>relationship_ Own-child</th>\n",
              "      <th>relationship_ Unmarried</th>\n",
              "      <th>relationship_ Wife</th>\n",
              "      <th>sex_ Female</th>\n",
              "      <th>sex_ Male</th>\n",
              "    </tr>\n",
              "  </thead>\n",
              "  <tbody>\n",
              "    <tr>\n",
              "      <th>0</th>\n",
              "      <td>39</td>\n",
              "      <td>13</td>\n",
              "      <td>2174</td>\n",
              "      <td>0</td>\n",
              "      <td>40</td>\n",
              "      <td>0</td>\n",
              "      <td>0</td>\n",
              "      <td>0</td>\n",
              "      <td>0</td>\n",
              "      <td>0</td>\n",
              "      <td>...</td>\n",
              "      <td>0</td>\n",
              "      <td>0</td>\n",
              "      <td>0</td>\n",
              "      <td>1</td>\n",
              "      <td>0</td>\n",
              "      <td>0</td>\n",
              "      <td>0</td>\n",
              "      <td>0</td>\n",
              "      <td>0</td>\n",
              "      <td>1</td>\n",
              "    </tr>\n",
              "    <tr>\n",
              "      <th>1</th>\n",
              "      <td>50</td>\n",
              "      <td>13</td>\n",
              "      <td>0</td>\n",
              "      <td>0</td>\n",
              "      <td>13</td>\n",
              "      <td>0</td>\n",
              "      <td>0</td>\n",
              "      <td>0</td>\n",
              "      <td>0</td>\n",
              "      <td>1</td>\n",
              "      <td>...</td>\n",
              "      <td>0</td>\n",
              "      <td>0</td>\n",
              "      <td>1</td>\n",
              "      <td>0</td>\n",
              "      <td>0</td>\n",
              "      <td>0</td>\n",
              "      <td>0</td>\n",
              "      <td>0</td>\n",
              "      <td>0</td>\n",
              "      <td>1</td>\n",
              "    </tr>\n",
              "    <tr>\n",
              "      <th>2</th>\n",
              "      <td>38</td>\n",
              "      <td>9</td>\n",
              "      <td>0</td>\n",
              "      <td>0</td>\n",
              "      <td>40</td>\n",
              "      <td>0</td>\n",
              "      <td>0</td>\n",
              "      <td>1</td>\n",
              "      <td>0</td>\n",
              "      <td>0</td>\n",
              "      <td>...</td>\n",
              "      <td>0</td>\n",
              "      <td>0</td>\n",
              "      <td>0</td>\n",
              "      <td>1</td>\n",
              "      <td>0</td>\n",
              "      <td>0</td>\n",
              "      <td>0</td>\n",
              "      <td>0</td>\n",
              "      <td>0</td>\n",
              "      <td>1</td>\n",
              "    </tr>\n",
              "  </tbody>\n",
              "</table>\n",
              "<p>3 rows × 57 columns</p>\n",
              "</div>\n",
              "      <button class=\"colab-df-convert\" onclick=\"convertToInteractive('df-d8275aa5-1236-4011-a3cf-5cbff255d569')\"\n",
              "              title=\"Convert this dataframe to an interactive table.\"\n",
              "              style=\"display:none;\">\n",
              "        \n",
              "  <svg xmlns=\"http://www.w3.org/2000/svg\" height=\"24px\"viewBox=\"0 0 24 24\"\n",
              "       width=\"24px\">\n",
              "    <path d=\"M0 0h24v24H0V0z\" fill=\"none\"/>\n",
              "    <path d=\"M18.56 5.44l.94 2.06.94-2.06 2.06-.94-2.06-.94-.94-2.06-.94 2.06-2.06.94zm-11 1L8.5 8.5l.94-2.06 2.06-.94-2.06-.94L8.5 2.5l-.94 2.06-2.06.94zm10 10l.94 2.06.94-2.06 2.06-.94-2.06-.94-.94-2.06-.94 2.06-2.06.94z\"/><path d=\"M17.41 7.96l-1.37-1.37c-.4-.4-.92-.59-1.43-.59-.52 0-1.04.2-1.43.59L10.3 9.45l-7.72 7.72c-.78.78-.78 2.05 0 2.83L4 21.41c.39.39.9.59 1.41.59.51 0 1.02-.2 1.41-.59l7.78-7.78 2.81-2.81c.8-.78.8-2.07 0-2.86zM5.41 20L4 18.59l7.72-7.72 1.47 1.35L5.41 20z\"/>\n",
              "  </svg>\n",
              "      </button>\n",
              "      \n",
              "  <style>\n",
              "    .colab-df-container {\n",
              "      display:flex;\n",
              "      flex-wrap:wrap;\n",
              "      gap: 12px;\n",
              "    }\n",
              "\n",
              "    .colab-df-convert {\n",
              "      background-color: #E8F0FE;\n",
              "      border: none;\n",
              "      border-radius: 50%;\n",
              "      cursor: pointer;\n",
              "      display: none;\n",
              "      fill: #1967D2;\n",
              "      height: 32px;\n",
              "      padding: 0 0 0 0;\n",
              "      width: 32px;\n",
              "    }\n",
              "\n",
              "    .colab-df-convert:hover {\n",
              "      background-color: #E2EBFA;\n",
              "      box-shadow: 0px 1px 2px rgba(60, 64, 67, 0.3), 0px 1px 3px 1px rgba(60, 64, 67, 0.15);\n",
              "      fill: #174EA6;\n",
              "    }\n",
              "\n",
              "    [theme=dark] .colab-df-convert {\n",
              "      background-color: #3B4455;\n",
              "      fill: #D2E3FC;\n",
              "    }\n",
              "\n",
              "    [theme=dark] .colab-df-convert:hover {\n",
              "      background-color: #434B5C;\n",
              "      box-shadow: 0px 1px 3px 1px rgba(0, 0, 0, 0.15);\n",
              "      filter: drop-shadow(0px 1px 2px rgba(0, 0, 0, 0.3));\n",
              "      fill: #FFFFFF;\n",
              "    }\n",
              "  </style>\n",
              "\n",
              "      <script>\n",
              "        const buttonEl =\n",
              "          document.querySelector('#df-d8275aa5-1236-4011-a3cf-5cbff255d569 button.colab-df-convert');\n",
              "        buttonEl.style.display =\n",
              "          google.colab.kernel.accessAllowed ? 'block' : 'none';\n",
              "\n",
              "        async function convertToInteractive(key) {\n",
              "          const element = document.querySelector('#df-d8275aa5-1236-4011-a3cf-5cbff255d569');\n",
              "          const dataTable =\n",
              "            await google.colab.kernel.invokeFunction('convertToInteractive',\n",
              "                                                     [key], {});\n",
              "          if (!dataTable) return;\n",
              "\n",
              "          const docLinkHtml = 'Like what you see? Visit the ' +\n",
              "            '<a target=\"_blank\" href=https://colab.research.google.com/notebooks/data_table.ipynb>data table notebook</a>'\n",
              "            + ' to learn more about interactive tables.';\n",
              "          element.innerHTML = '';\n",
              "          dataTable['output_type'] = 'display_data';\n",
              "          await google.colab.output.renderOutput(dataTable, element);\n",
              "          const docLink = document.createElement('div');\n",
              "          docLink.innerHTML = docLinkHtml;\n",
              "          element.appendChild(docLink);\n",
              "        }\n",
              "      </script>\n",
              "    </div>\n",
              "  </div>\n",
              "  "
            ]
          },
          "metadata": {},
          "execution_count": 12
        }
      ],
      "source": [
        "data[:3]"
      ]
    },
    {
      "cell_type": "markdown",
      "metadata": {
        "id": "HwjDg1uM1pqe"
      },
      "source": [
        "### Part (e) One-Hot Encoding [2 pt]\n",
        "\n",
        "The dataframe `data` contains the cleaned and normalized data that we will use to train our denoising autoencoder.\n",
        "\n",
        "How many **columns** (features) are in the dataframe `data`?\n",
        "\n",
        "Briefly explain where that number come from."
      ]
    },
    {
      "cell_type": "code",
      "execution_count": null,
      "metadata": {
        "colab": {
          "base_uri": "https://localhost:8080/"
        },
        "collapsed": true,
        "id": "yjZ5N0Tl1pqf",
        "jupyter": {
          "outputs_hidden": true
        },
        "outputId": "5f1f027e-f9b7-4d38-a9d2-dec7f0a402da"
      },
      "outputs": [
        {
          "output_type": "stream",
          "name": "stdout",
          "text": [
            "57\n"
          ]
        }
      ],
      "source": [
        "print(len(data.columns))\n",
        "# The data contains 57 columns, which represents the number of features/attributes such as age, workhrs, etc."
      ]
    },
    {
      "cell_type": "markdown",
      "metadata": {
        "id": "OEJ0Ci3l1pqh"
      },
      "source": [
        "### Part (f) One-Hot Conversion [3 pt]\n",
        "\n",
        "We will convert the pandas data frame `data` into numpy, so that\n",
        "it can be further converted into a PyTorch tensor.\n",
        "However, in doing so, we lose the column label information that\n",
        "a panda data frame automatically stores.\n",
        "\n",
        "Complete the function `get_categorical_value` that will return\n",
        "the named value of a feature given a one-hot embedding.\n",
        "You may find the global variables `cat_index` and `cat_values`\n",
        "useful. (Display them and figure out what they are first.)\n",
        "\n",
        "We will need this function in the next part of the lab\n",
        "to interpret our autoencoder outputs. So, the input\n",
        "to our function `get_categorical_values` might not\n",
        "actually be \"one-hot\" -- the input may instead\n",
        "contain real-valued predictions from our neural network."
      ]
    },
    {
      "cell_type": "code",
      "execution_count": null,
      "metadata": {
        "collapsed": true,
        "id": "ZmovX6gu1pqi",
        "jupyter": {
          "outputs_hidden": true
        }
      },
      "outputs": [],
      "source": [
        "datanp = data.values.astype(np.float32)"
      ]
    },
    {
      "cell_type": "code",
      "execution_count": null,
      "metadata": {
        "colab": {
          "base_uri": "https://localhost:8080/"
        },
        "collapsed": true,
        "id": "YRIa5MBd1pql",
        "jupyter": {
          "outputs_hidden": true
        },
        "outputId": "034ebd05-ae90-458c-a14d-d3c1a466d40d"
      },
      "outputs": [
        {
          "output_type": "stream",
          "name": "stdout",
          "text": [
            "{'work': 5, 'marriage': 12, 'occupation': 19, 'edu': 33, 'relationship': 49, 'sex': 55}\n",
            "{'work': ['Federal-gov', 'Local-gov', 'Private', 'Self-emp-inc', 'Self-emp-not-inc', 'State-gov', 'Without-pay'], 'marriage': ['Divorced', 'Married-AF-spouse', 'Married-civ-spouse', 'Married-spouse-absent', 'Never-married', 'Separated', 'Widowed'], 'occupation': ['Adm-clerical', 'Armed-Forces', 'Craft-repair', 'Exec-managerial', 'Farming-fishing', 'Handlers-cleaners', 'Machine-op-inspct', 'Other-service', 'Priv-house-serv', 'Prof-specialty', 'Protective-serv', 'Sales', 'Tech-support', 'Transport-moving'], 'edu': ['10th', '11th', '12th', '1st-4th', '5th-6th', '7th-8th', '9th', 'Assoc-acdm', 'Assoc-voc', 'Bachelors', 'Doctorate', 'HS-grad', 'Masters', 'Preschool', 'Prof-school', 'Some-college'], 'relationship': ['Husband', 'Not-in-family', 'Other-relative', 'Own-child', 'Unmarried', 'Wife'], 'sex': ['Female', 'Male']}\n"
          ]
        }
      ],
      "source": [
        "cat_index = {}  # Mapping of feature -> start index of feature in a record\n",
        "cat_values = {} # Mapping of feature -> list of categorical values the feature can take\n",
        "\n",
        "# build up the cat_index and cat_values dictionary\n",
        "for i, header in enumerate(data.keys()):\n",
        "    if \"_\" in header: # categorical header\n",
        "        feature, value = header.split()\n",
        "        feature = feature[:-1] # remove the last char; it is always an underscore\n",
        "        if feature not in cat_index:\n",
        "            cat_index[feature] = i\n",
        "            cat_values[feature] = [value]\n",
        "        else:\n",
        "            cat_values[feature].append(value)\n",
        "\n",
        "print(cat_index)\n",
        "print(cat_values)\n",
        "\n",
        "def get_onehot(record, feature):\n",
        "    \"\"\"\n",
        "    Return the portion of `record` that is the one-hot encoding\n",
        "    of `feature`. For example, since the feature \"work\" is stored\n",
        "    in the indices [5:12] in each record, calling `get_range(record, \"work\")`\n",
        "    is equivalent to accessing `record[5:12]`.\n",
        "\n",
        "    Args:\n",
        "        - record: a numpy array representing one record, formatted\n",
        "                  the same way as a row in `data.np`\n",
        "        - feature: a string, should be an element of `catcols`\n",
        "    \"\"\"\n",
        "    start_index = cat_index[feature]\n",
        "    stop_index = cat_index[feature] + len(cat_values[feature])\n",
        "    return record[start_index:stop_index]\n",
        "\n",
        "def get_categorical_value(onehot, feature):\n",
        "    \"\"\"\n",
        "    Return the categorical value name of a feature given\n",
        "    a one-hot vector representing the feature.\n",
        "\n",
        "    Args:\n",
        "        - onehot: a numpy array one-hot representation of the feature\n",
        "        - feature: a string, should be an element of `catcols`\n",
        "\n",
        "    Examples:\n",
        "\n",
        "    >>> get_categorical_value(np.array([0., 0., 0., 0., 0., 1., 0.]), \"work\")\n",
        "    'State-gov'\n",
        "    >>> get_categorical_value(np.array([0.1, 0., 1.1, 0.2, 0., 1., 0.]), \"work\")\n",
        "    'Private'\n",
        "    \"\"\"\n",
        "    # <----- TODO: WRITE YOUR CODE HERE ----->\n",
        "    # You may find the variables `cat_index` and `cat_values`\n",
        "    # (created above) useful.\n",
        "    max_index = np.argmax(onehot)\n",
        "    categorical_value = cat_values[feature][max_index]\n",
        "    return categorical_value"
      ]
    },
    {
      "cell_type": "code",
      "execution_count": null,
      "metadata": {
        "collapsed": true,
        "id": "T_XXxZdh1pqv",
        "jupyter": {
          "outputs_hidden": true
        }
      },
      "outputs": [],
      "source": [
        "# more useful code, used during training, that depends on the function\n",
        "# you write above\n",
        "\n",
        "def get_feature(record, feature):\n",
        "    \"\"\"\n",
        "    Return the categorical feature value of a record\n",
        "    \"\"\"\n",
        "    onehot = get_onehot(record, feature)\n",
        "    return get_categorical_value(onehot, feature)\n",
        "\n",
        "def get_features(record):\n",
        "    \"\"\"\n",
        "    Return a dictionary of all categorical feature values of a record\n",
        "    \"\"\"\n",
        "    return { f: get_feature(record, f) for f in catcols }"
      ]
    },
    {
      "cell_type": "markdown",
      "metadata": {
        "id": "1_5ZZR_J1pqy"
      },
      "source": [
        "### Part (g) Train/Test Split [3 pt]\n",
        "\n",
        "Randomly split the data into approximately 70% training, 15% validation and 15% test.\n",
        "\n",
        "Report the number of items in your training, validation, and test set."
      ]
    },
    {
      "cell_type": "code",
      "execution_count": null,
      "metadata": {
        "colab": {
          "base_uri": "https://localhost:8080/"
        },
        "collapsed": true,
        "id": "TE_fTJJf1pqz",
        "jupyter": {
          "outputs_hidden": true
        },
        "outputId": "8a14d6ff-904c-4b13-f7ee-5114f90071c6"
      },
      "outputs": [
        {
          "output_type": "stream",
          "name": "stdout",
          "text": [
            "21502\n",
            "26110\n",
            "[ 9944  9160 18905 ...  6996 19418  4818]\n",
            "[26240  9254 15365 ... 24579 18154 21870]\n",
            "[29000  6712 26739 ... 10123  5600 14000]\n",
            "21502\n",
            "4608\n",
            "4608\n"
          ]
        }
      ],
      "source": [
        "# set the numpy seed for reproducibility\n",
        "# https://docs.scipy.org/doc/numpy/reference/generated/numpy.random.seed.html\n",
        "np.random.seed(50)\n",
        "\n",
        "# todo\n",
        "num_datavals = len(data)\n",
        "values = np.arange(num_datavals)\n",
        "np.random.shuffle(values)\n",
        "group1 = int(len(values)*0.7)\n",
        "print(group1)\n",
        "group2 = int(len(values)*0.85)\n",
        "print(group2)\n",
        "training_index = values[0:group1]\n",
        "val_index = values[group1:group2]\n",
        "test_index = values[group2:]\n",
        "print(training_index)\n",
        "print(val_index)\n",
        "print(test_index)\n",
        "training_data = datanp[training_index]\n",
        "val_data = datanp[val_index]\n",
        "test_data = datanp[test_index]\n",
        "\n",
        "print(len(training_data))\n",
        "print(len(val_data))\n",
        "print(len(test_data))"
      ]
    },
    {
      "cell_type": "code",
      "source": [
        "train_loader = torch.utils.data.DataLoader(training_data, batch_size=32, shuffle=True)"
      ],
      "metadata": {
        "id": "YzqFE8bcvgZq"
      },
      "execution_count": null,
      "outputs": []
    },
    {
      "cell_type": "code",
      "source": [
        "for data, label in enumerate(train_loader):\n",
        "  print(type(label[0][0][0]))"
      ],
      "metadata": {
        "colab": {
          "base_uri": "https://localhost:8080/",
          "height": 183
        },
        "id": "mP3bR-EJv5WS",
        "outputId": "99d39656-2ba6-4be7-9aa9-a95e60544107"
      },
      "execution_count": null,
      "outputs": [
        {
          "output_type": "error",
          "ename": "IndexError",
          "evalue": "ignored",
          "traceback": [
            "\u001b[0;31m---------------------------------------------------------------------------\u001b[0m",
            "\u001b[0;31mIndexError\u001b[0m                                Traceback (most recent call last)",
            "\u001b[0;32m<ipython-input-24-123fab11da7a>\u001b[0m in \u001b[0;36m<cell line: 1>\u001b[0;34m()\u001b[0m\n\u001b[1;32m      1\u001b[0m \u001b[0;32mfor\u001b[0m \u001b[0mdata\u001b[0m\u001b[0;34m,\u001b[0m \u001b[0mlabel\u001b[0m \u001b[0;32min\u001b[0m \u001b[0menumerate\u001b[0m\u001b[0;34m(\u001b[0m\u001b[0mtrain_loader\u001b[0m\u001b[0;34m)\u001b[0m\u001b[0;34m:\u001b[0m\u001b[0;34m\u001b[0m\u001b[0;34m\u001b[0m\u001b[0m\n\u001b[0;32m----> 2\u001b[0;31m   \u001b[0mprint\u001b[0m\u001b[0;34m(\u001b[0m\u001b[0mtype\u001b[0m\u001b[0;34m(\u001b[0m\u001b[0mlabel\u001b[0m\u001b[0;34m[\u001b[0m\u001b[0;36m0\u001b[0m\u001b[0;34m]\u001b[0m\u001b[0;34m[\u001b[0m\u001b[0;36m0\u001b[0m\u001b[0;34m]\u001b[0m\u001b[0;34m[\u001b[0m\u001b[0;36m0\u001b[0m\u001b[0;34m]\u001b[0m\u001b[0;34m)\u001b[0m\u001b[0;34m)\u001b[0m\u001b[0;34m\u001b[0m\u001b[0;34m\u001b[0m\u001b[0m\n\u001b[0m",
            "\u001b[0;31mIndexError\u001b[0m: invalid index of a 0-dim tensor. Use `tensor.item()` in Python or `tensor.item<T>()` in C++ to convert a 0-dim tensor to a number"
          ]
        }
      ]
    },
    {
      "cell_type": "markdown",
      "metadata": {
        "id": "h9wJAKOI1pq3"
      },
      "source": [
        "## Part 2. Model Setup [5 pt]\n",
        "\n",
        "### Part (a) [4 pt]\n",
        "\n",
        "Design a fully-connected autoencoder by modifying the `encoder` and `decoder`\n",
        "below.\n",
        "\n",
        "The input to this autoencoder will be the features of the `data`, with\n",
        "one categorical feature recorded as \"missing\". The output of the autoencoder\n",
        "should be the reconstruction of the same features, but with the missing\n",
        "value filled in.\n",
        "\n",
        "**Note**: Do not reduce the dimensionality of the input too much!\n",
        "The output of your embedding is expected to contain information\n",
        "about ~11 features."
      ]
    },
    {
      "cell_type": "code",
      "execution_count": null,
      "metadata": {
        "collapsed": true,
        "id": "f3F--tdn1pq3",
        "jupyter": {
          "outputs_hidden": true
        }
      },
      "outputs": [],
      "source": [
        "from torch.nn.modules.activation import ReLU\n",
        "from torch import nn\n",
        "\n",
        "class AutoEncoder(nn.Module):\n",
        "    def __init__(self):\n",
        "        self.name = \"AutoEncoder\"\n",
        "        super(AutoEncoder, self).__init__()\n",
        "        self.encoder = nn.Sequential(\n",
        "            nn.Linear(57, 32),\n",
        "            nn.ReLU(),\n",
        "            nn.Linear(32, 16),\n",
        "            nn.ReLU(),\n",
        "            nn.Linear(16, 8)\n",
        "        )\n",
        "        self.decoder = nn.Sequential(\n",
        "            nn.Linear(8, 16),\n",
        "            nn.ReLU(),\n",
        "            nn.Linear(16, 32),\n",
        "            nn.ReLU(),\n",
        "            nn.Linear(32, 57),s\n",
        "            nn.Sigmoid() # get to the range (0, 1)\n",
        "        )\n",
        "\n",
        "    def forward(self, x):\n",
        "        x = self.encoder(x)\n",
        "        x = self.decoder(x)\n",
        "        return x"
      ]
    },
    {
      "cell_type": "markdown",
      "metadata": {
        "id": "kuEzTSAv1pq6"
      },
      "source": [
        "### Part (b) [1 pt]\n",
        "\n",
        "Explain why there is a sigmoid activation in the last step of the decoder.\n",
        "\n",
        "(**Note**: the values inside the data frame `data` and the training code in Part 3 might be helpful.)"
      ]
    },
    {
      "cell_type": "code",
      "execution_count": null,
      "metadata": {
        "collapsed": true,
        "id": "HFLd0S4H1pq6",
        "jupyter": {
          "outputs_hidden": true
        }
      },
      "outputs": [],
      "source": [
        "# The sigmoid activation makes it so that all the outputs are values between 0 and 1.\n",
        "# This is necessary since we normalized all the data values to be between 0 and 1, so we\n",
        "# would need the outputs of the decoder to match the values of the data in order to\n",
        "# verify its accuracy."
      ]
    },
    {
      "cell_type": "markdown",
      "metadata": {
        "id": "jYwqFWVl1pq8"
      },
      "source": [
        "## Part 3. Training [18]\n",
        "\n",
        "### Part (a) [6 pt]\n",
        "\n",
        "We will train our autoencoder in the following way:\n",
        "\n",
        "- In each iteration, we will hide one of the categorical features using the `zero_out_random_features` function\n",
        "- We will pass the data with one missing feature through the autoencoder, and obtain a reconstruction\n",
        "- We will check how close the reconstruction is compared to the original data -- including the value of the missing feature\n",
        "\n",
        "Complete the code to train the autoencoder, and plot the training and validation loss every few iterations.\n",
        "You may also want to plot training and validation \"accuracy\" every few iterations, as we will define in\n",
        "part (b). You may also want to checkpoint your model every few iterations or epochs.\n",
        "\n",
        "Use `nn.MSELoss()` as your loss function. (Side note: you might recognize that this loss function is not\n",
        "ideal for this problem, but we will use it anyway.)"
      ]
    },
    {
      "cell_type": "code",
      "execution_count": null,
      "metadata": {
        "collapsed": true,
        "id": "IDQA_-dS1pq9",
        "jupyter": {
          "outputs_hidden": true
        }
      },
      "outputs": [],
      "source": [
        "def zero_out_feature(records, feature):\n",
        "    \"\"\" Set the feature missing in records, by setting the appropriate\n",
        "    columns of records to 0\n",
        "    \"\"\"\n",
        "    start_index = cat_index[feature]\n",
        "    stop_index = cat_index[feature] + len(cat_values[feature])\n",
        "    records[:, start_index:stop_index] = 0\n",
        "    return records\n",
        "\n",
        "def zero_out_random_feature(records):\n",
        "    \"\"\" Set one random feature missing in records, by setting the\n",
        "    appropriate columns of records to 0\n",
        "    \"\"\"\n",
        "    return zero_out_feature(records, random.choice(catcols))\n",
        "\n",
        "# Create some helper functions\n",
        "def get_model_name(name, batch_size, learning_rate, epoch):\n",
        "    \"\"\" Generate a name for the model consisting of all the hyperparameter values\n",
        "\n",
        "    Args:\n",
        "        config: Configuration object containing the hyperparameters\n",
        "    Returns:\n",
        "        path: A string with the hyperparameter name and value concatenated\n",
        "    \"\"\"\n",
        "    path = \"model_{0}_bs{1}_lr{2}_epoch{3}\".format(name,\n",
        "                                                   batch_size,\n",
        "                                                   learning_rate,\n",
        "                                                   epoch)\n",
        "    return path\n",
        "\n",
        "def val_stats_calc(net, loader, criterion):\n",
        "  net.eval()\n",
        "  with torch.no_grad():\n",
        "    total_loss = 0.0\n",
        "    total_error = 0.0\n",
        "    for inputs, labels in iter(loader):\n",
        "      if torch.cuda.is_available():\n",
        "        inputs = inputs.to(device)\n",
        "        labels = labels.cuda(device)\n",
        "      outputs = net(inputs)\n",
        "      loss = criterion(outputs, labels)\n",
        "\n",
        "      total_loss += loss.item()\n",
        "      total_error += (outputs.argmax(dim=1) != labels).sum().item()\n",
        "\n",
        "  return (float(total_loss)/len(loader.dataset)), (1-total_error/len(loader.dataset))\n",
        "\n",
        "# Main training function\n",
        "def train(model, train_data, valid_data, num_epochs=5, learning_rate=1e-4, batch_size=64): # Use nn.MSELoss()\n",
        "    \"\"\" Training loop. You should update this.\"\"\"\n",
        "    torch.manual_seed(42)\n",
        "    criterion = nn.MSELoss()\n",
        "    optimizer = torch.optim.Adam(model.parameters(), lr=learning_rate)\n",
        "    train_loader = torch.utils.data.DataLoader(train_data, batch_size=batch_size, shuffle=True)\n",
        "    valid_loader = torch.utils.data.DataLoader(valid_data, batch_size=batch_size, shuffle=True)\n",
        "    training_acc = []\n",
        "    training_loss = []\n",
        "    val_acc = []\n",
        "    val_loss = []\n",
        "    for epoch in range(num_epochs):\n",
        "        n = 0\n",
        "        train_loss = float(0)\n",
        "        for data in train_loader:\n",
        "            datam = zero_out_random_feature(data.clone()) # zero out one categorical feature\n",
        "            recon = model(datam)\n",
        "            loss = criterion(recon, data)\n",
        "            loss.backward()\n",
        "            optimizer.step()\n",
        "            optimizer.zero_grad()\n",
        "            train_loss += loss.item()\n",
        "            n += 1\n",
        "        valid_loss = float(0)\n",
        "        for data in valid_loader:\n",
        "            datam = zero_out_random_feature(data.clone()) # zero out one categorical feature\n",
        "            recon = model(datam)\n",
        "            loss = criterion(recon, data)\n",
        "            loss.backward()\n",
        "            optimizer.step()\n",
        "            optimizer.zero_grad()\n",
        "            valid_loss += loss.item()\n",
        "\n",
        "        training_acc.append(get_accuracy(model, train_loader))\n",
        "        training_loss.append(float(train_loss/(n+1)))\n",
        "        val_acc.append(get_accuracy(model, valid_loader))\n",
        "        val_loss.append(float(valid_loss/(n+1)))\n",
        "\n",
        "        print((\"Epoch {}: Train Accuracy: {} Train Loss: {} |\"+\"Validation Accuracy: {} Validation Loss: {}\").format(epoch + 1,training_acc[-1],training_loss[-1],val_acc[-1],val_loss[-1]))\n",
        "        # Save the current model (checkpoint) to a file\n",
        "        model_path = get_model_name(model.name, batch_size, learning_rate, epoch)\n",
        "        torch.save(model.state_dict(), model_path)\n",
        "    # Write the train/test loss/err into CSV file for plotting later\n",
        "    epochs = np.arange(1, num_epochs + 1)\n",
        "    plt.title(\"Training Accuracy Curve\")\n",
        "    plt.plot(epochs, training_acc)\n",
        "    plt.xlabel(\"Num Epochs\")\n",
        "    plt.ylabel(\"Training Accuracy\")\n",
        "    plt.show()\n",
        "\n",
        "    plt.title(\"Training Loss Curve\")\n",
        "    plt.plot(epochs, training_loss)\n",
        "    plt.xlabel(\"Num Epochs\")\n",
        "    plt.ylabel(\"Training loss\")\n",
        "    plt.show()\n",
        "\n",
        "    plt.title(\"Validation Accuracy Curve\")\n",
        "    plt.plot(epochs, val_acc)\n",
        "    plt.xlabel(\"Num Epochs\")\n",
        "    plt.ylabel(\"Training Accuracy\")\n",
        "    plt.show()\n",
        "\n",
        "    plt.title(\"Validation Loss Curve\")\n",
        "    plt.plot(epochs, val_loss)\n",
        "    plt.xlabel(\"Num Epochs\")\n",
        "    plt.ylabel(\"Training Accuracy\")\n",
        "    plt.show()"
      ]
    },
    {
      "cell_type": "markdown",
      "metadata": {
        "id": "WKk01pwx1pq_"
      },
      "source": [
        "### Part (b) [3 pt]\n",
        "\n",
        "While plotting training and validation loss is valuable, loss values are harder to compare\n",
        "than accuracy percentages. It would be nice to have a measure of \"accuracy\" in this problem.\n",
        "\n",
        "Since we will only be imputing missing categorical values, we will define an accuracy measure.\n",
        "For each record and for each categorical feature, we determine whether\n",
        "the model can predict the categorical feature given all the other features of the record.\n",
        "\n",
        "A function `get_accuracy` is written for you. It is up to you to figure out how to\n",
        "use the function. **You don't need to submit anything in this part.**\n",
        "To earn the marks, correctly plot the training and validation accuracy every few\n",
        "iterations as part of your training curve."
      ]
    },
    {
      "cell_type": "code",
      "execution_count": null,
      "metadata": {
        "collapsed": true,
        "id": "bHWLfCzM1pq_",
        "jupyter": {
          "outputs_hidden": true
        }
      },
      "outputs": [],
      "source": [
        "def get_accuracy(model, data_loader):\n",
        "    \"\"\"Return the \"accuracy\" of the autoencoder model across a data set.\n",
        "    That is, for each record and for each categorical feature,\n",
        "    we determine whether the model can successfully predict the value\n",
        "    of the categorical feature given all the other features of the\n",
        "    record. The returned \"accuracy\" measure is the percentage of times\n",
        "    that our model is successful.\n",
        "\n",
        "    Args:\n",
        "       - model: the autoencoder model, an instance of nn.Module\n",
        "       - data_loader: an instance of torch.utils.data.DataLoader\n",
        "\n",
        "    Example (to illustrate how get_accuracy is intended to be called.\n",
        "             Depending on your variable naming this code might require\n",
        "             modification.)\n",
        "\n",
        "        >>> model = AutoEncoder()\n",
        "        >>> vdl = torch.utils.data.DataLoader(data_valid, batch_size=256, shuffle=True)\n",
        "        >>> get_accuracy(model, vdl)\n",
        "    \"\"\"\n",
        "    total = 0\n",
        "    acc = 0\n",
        "    for col in catcols:\n",
        "        for item in data_loader: # minibatches\n",
        "            inp = item.detach().numpy()\n",
        "            out = model(zero_out_feature(item.clone(), col)).detach().numpy()\n",
        "            for i in range(out.shape[0]): # record in minibatch\n",
        "                acc += int(get_feature(out[i], col) == get_feature(inp[i], col))\n",
        "                total += 1\n",
        "    return acc / total"
      ]
    },
    {
      "cell_type": "markdown",
      "metadata": {
        "id": "SxCTlXoV1prB"
      },
      "source": [
        "### Part (c) [4 pt]\n",
        "\n",
        "Run your updated training code, using reasonable initial hyperparameters.\n",
        "\n",
        "Include your training curve in your submission."
      ]
    },
    {
      "cell_type": "code",
      "execution_count": null,
      "metadata": {
        "colab": {
          "base_uri": "https://localhost:8080/",
          "height": 1000
        },
        "collapsed": true,
        "id": "nj5b71l-1prC",
        "jupyter": {
          "outputs_hidden": true
        },
        "outputId": "ba0155d3-62a8-4fec-bdd5-377dbdb97b53"
      },
      "outputs": [
        {
          "output_type": "stream",
          "name": "stdout",
          "text": [
            "Epoch 1: Train Accuracy: 0.5581573807087713 Train Loss: 0.08668280643083011 |Validation Accuracy: 0.5601851851851852 Validation Loss: 0.011763766125663783\n",
            "Epoch 2: Train Accuracy: 0.5761324527950888 Train Loss: 0.05288178635896758 |Validation Accuracy: 0.5784505208333334 Validation Loss: 0.010725640098150559\n",
            "Epoch 3: Train Accuracy: 0.5876197563017393 Train Loss: 0.04741527612859391 |Validation Accuracy: 0.5856481481481481 Validation Loss: 0.009668061689627295\n",
            "Epoch 4: Train Accuracy: 0.5916813939788547 Train Loss: 0.04378218622809002 |Validation Accuracy: 0.5928457754629629 Validation Loss: 0.009022746738849034\n",
            "Epoch 5: Train Accuracy: 0.5956500170526773 Train Loss: 0.04135064042296487 |Validation Accuracy: 0.5971860532407407 Validation Loss: 0.00865112611799768\n",
            "Epoch 6: Train Accuracy: 0.5954949927138561 Train Loss: 0.03956195598891639 |Validation Accuracy: 0.5958116319444444 Validation Loss: 0.008361552765850327\n",
            "Epoch 7: Train Accuracy: 0.5995178743062661 Train Loss: 0.03806083024455924 |Validation Accuracy: 0.6023582175925926 Validation Loss: 0.007914266879787949\n",
            "Epoch 8: Train Accuracy: 0.6004092642544879 Train Loss: 0.03625339255799687 |Validation Accuracy: 0.6012369791666666 Validation Loss: 0.007664103667081553\n",
            "Epoch 9: Train Accuracy: 0.6104548414101014 Train Loss: 0.0348206554936663 |Validation Accuracy: 0.6110749421296297 Validation Loss: 0.007287686311516684\n",
            "Epoch 10: Train Accuracy: 0.6166868198307134 Train Loss: 0.03350784087395863 |Validation Accuracy: 0.6177300347222222 Validation Loss: 0.007033828637641571\n"
          ]
        },
        {
          "output_type": "display_data",
          "data": {
            "text/plain": [
              "<Figure size 432x288 with 1 Axes>"
            ],
            "image/png": "[encoded data removed]"
          },
          "metadata": {
            "needs_background": "light"
          }
        },
        {
          "output_type": "display_data",
          "data": {
            "text/plain": [
              "<Figure size 432x288 with 1 Axes>"
            ],
            "image/png": "[encoded data removed]"
          },
          "metadata": {
            "needs_background": "light"
          }
        },
        {
          "output_type": "display_data",
          "data": {
            "text/plain": [
              "<Figure size 432x288 with 1 Axes>"
            ],
            "image/png": "[encoded data removed]"
          },
          "metadata": {
            "needs_background": "light"
          }
        },
        {
          "output_type": "display_data",
          "data": {
            "text/plain": [
              "<Figure size 432x288 with 1 Axes>"
            ],
            "image/png": "[encoded data removed]"
          },
          "metadata": {
            "needs_background": "light"
          }
        }
      ],
      "source": [
        "net = AutoEncoder()\n",
        "train(net, training_data, val_data, num_epochs=10, batch_size=32, learning_rate=0.0005)"
      ]
    },
    {
      "cell_type": "markdown",
      "metadata": {
        "id": "h9xTwIf51prF"
      },
      "source": [
        "### Part (d) [5 pt]\n",
        "\n",
        "Tune your hyperparameters, training at least 4 different models (4 sets of hyperparameters).\n",
        "\n",
        "Do not include all your training curves. Instead, explain what hyperparameters\n",
        "you tried, what their effect was, and what your thought process was as you\n",
        "chose the next set of hyperparameters to try."
      ]
    },
    {
      "cell_type": "code",
      "execution_count": null,
      "metadata": {
        "colab": {
          "base_uri": "https://localhost:8080/",
          "height": 1491
        },
        "id": "PhTKt9iL1prG",
        "jupyter": {
          "outputs_hidden": true
        },
        "outputId": "27079341-1d92-4cbc-f70c-f707f585175c"
      },
      "outputs": [
        {
          "output_type": "stream",
          "name": "stdout",
          "text": [
            "Epoch 1: Train Accuracy: 0.45768610671875487 Train Loss: 0.0923697601942924 |Validation Accuracy: 0.45703125 Validation Loss: 0.014577617522821738\n",
            "Epoch 2: Train Accuracy: 0.5633274424084581 Train Loss: 0.058117264436134436 |Validation Accuracy: 0.5643084490740741 Validation Loss: 0.010976556854607623\n",
            "Epoch 3: Train Accuracy: 0.5979443772672309 Train Loss: 0.04777203356905288 |Validation Accuracy: 0.5970413773148148 Validation Loss: 0.009605033547350414\n",
            "Epoch 4: Train Accuracy: 0.6019905125104641 Train Loss: 0.04300884017928394 |Validation Accuracy: 0.6008752893518519 Validation Loss: 0.009028341599019109\n",
            "Epoch 5: Train Accuracy: 0.5980218894366416 Train Loss: 0.04122235309637053 |Validation Accuracy: 0.5964626736111112 Validation Loss: 0.008713016773603114\n",
            "Epoch 6: Train Accuracy: 0.5968359532446594 Train Loss: 0.04019789375021589 |Validation Accuracy: 0.5971137152777778 Validation Loss: 0.008493318096533926\n",
            "Epoch 7: Train Accuracy: 0.6022928099711655 Train Loss: 0.03938302748669133 |Validation Accuracy: 0.6023943865740741 Validation Loss: 0.008324139503787036\n",
            "Epoch 8: Train Accuracy: 0.6006107958949555 Train Loss: 0.038588777801677875 |Validation Accuracy: 0.6016710069444444 Validation Loss: 0.008203553874460761\n",
            "Epoch 9: Train Accuracy: 0.6019052491241125 Train Loss: 0.03813699088481436 |Validation Accuracy: 0.6027922453703703 Validation Loss: 0.008100551532312985\n",
            "Epoch 10: Train Accuracy: 0.609369671038353 Train Loss: 0.037451336572685706 |Validation Accuracy: 0.6082899305555556 Validation Loss: 0.007978295129661575\n",
            "Epoch 11: Train Accuracy: 0.607416364369206 Train Loss: 0.03671589370036462 |Validation Accuracy: 0.6075303819444444 Validation Loss: 0.007848397769133545\n",
            "Epoch 12: Train Accuracy: 0.611051685114563 Train Loss: 0.036262952508114246 |Validation Accuracy: 0.6125217013888888 Validation Loss: 0.007771260516073162\n",
            "Epoch 13: Train Accuracy: 0.6101913000341054 Train Loss: 0.03574754996571197 |Validation Accuracy: 0.6102068865740741 Validation Loss: 0.007654959662508823\n",
            "Epoch 14: Train Accuracy: 0.6121678603540756 Train Loss: 0.03554863487141979 |Validation Accuracy: 0.6138599537037037 Validation Loss: 0.007586706197235241\n",
            "Epoch 15: Train Accuracy: 0.6087573249000093 Train Loss: 0.03480092961103123 |Validation Accuracy: 0.607421875 Validation Loss: 0.0074275224504198045\n",
            "Epoch 16: Train Accuracy: 0.6057498527268781 Train Loss: 0.03396511732435953 |Validation Accuracy: 0.6070963541666666 Validation Loss: 0.007164703493863123\n",
            "Epoch 17: Train Accuracy: 0.6061374135739311 Train Loss: 0.03294548285740357 |Validation Accuracy: 0.6038773148148148 Validation Loss: 0.006969253163103894\n",
            "Epoch 18: Train Accuracy: 0.6086023005611881 Train Loss: 0.03180778402154283 |Validation Accuracy: 0.6063006365740741 Validation Loss: 0.0067165643696356315\n",
            "Epoch 19: Train Accuracy: 0.6033934827767959 Train Loss: 0.03099576236312049 |Validation Accuracy: 0.6011284722222222 Validation Loss: 0.006604499890736095\n",
            "Epoch 20: Train Accuracy: 0.6059513843673456 Train Loss: 0.030568645721824526 |Validation Accuracy: 0.603515625 Validation Loss: 0.006533540383999805\n"
          ]
        },
        {
          "output_type": "display_data",
          "data": {
            "text/plain": [
              "<Figure size 432x288 with 1 Axes>"
            ],
            "image/png": "[encoded data removed]"
          },
          "metadata": {
            "needs_background": "light"
          }
        },
        {
          "output_type": "display_data",
          "data": {
            "text/plain": [
              "<Figure size 432x288 with 1 Axes>"
            ],
            "image/png": "[encoded data removed]"
          },
          "metadata": {
            "needs_background": "light"
          }
        },
        {
          "output_type": "display_data",
          "data": {
            "text/plain": [
              "<Figure size 432x288 with 1 Axes>"
            ],
            "image/png": "[encoded data removed]"
          },
          "metadata": {
            "needs_background": "light"
          }
        },
        {
          "output_type": "display_data",
          "data": {
            "text/plain": [
              "<Figure size 432x288 with 1 Axes>"
            ],
            "image/png": "[encoded data removed]"
          },
          "metadata": {
            "needs_background": "light"
          }
        }
      ],
      "source": [
        "# Model 1\n",
        "model_1 = AutoEncoder()\n",
        "# The initial set of hyperparameters did produce a steady increase in both training and validation accuracy,\n",
        "# so I wanted to increase the number of epochs to 20 to see how accurate the model could get, and also to see if\n",
        "# any overfitting would occur at later epochs.\n",
        "train(model_1, training_data, val_data, num_epochs=20, batch_size=32, learning_rate=0.0005)"
      ]
    },
    {
      "cell_type": "code",
      "source": [
        "# Model 2\n",
        "model_2 = AutoEncoder()\n",
        "# I learned that the training and validation accuracy hit a plateau after 12 epochs, so I kept this number the same\n",
        "# but increased the batch_size in the hopes of increasing the learning rate and getting higher accuracies.\n",
        "train(model_2, training_data, val_data, num_epochs=12, batch_size=64, learning_rate=0.0005)"
      ],
      "metadata": {
        "colab": {
          "base_uri": "https://localhost:8080/",
          "height": 1346
        },
        "id": "YZAQNX7hu43t",
        "outputId": "739cd57e-5518-4e3b-89ae-f1c18f88a688"
      },
      "execution_count": null,
      "outputs": [
        {
          "output_type": "stream",
          "name": "stdout",
          "text": [
            "Epoch 1: Train Accuracy: 0.4576551018509906 Train Loss: 0.11463031639242738 |Validation Accuracy: 0.45699508101851855 Validation Loss: 0.015026241496691718\n",
            "Epoch 2: Train Accuracy: 0.4904582519455555 Train Loss: 0.06869069526651847 |Validation Accuracy: 0.4881727430555556 Validation Loss: 0.014009544719839662\n",
            "Epoch 3: Train Accuracy: 0.5712491861222212 Train Loss: 0.05678379930312626 |Validation Accuracy: 0.5707103587962963 Validation Loss: 0.01140491668831347\n",
            "Epoch 4: Train Accuracy: 0.5791709298359843 Train Loss: 0.051382676474418416 |Validation Accuracy: 0.5773654513888888 Validation Loss: 0.010466878067492023\n",
            "Epoch 5: Train Accuracy: 0.5922317303816699 Train Loss: 0.047437524881755566 |Validation Accuracy: 0.5934606481481481 Validation Loss: 0.009771560713958316\n",
            "Epoch 6: Train Accuracy: 0.5936502030818839 Train Loss: 0.04448531772554452 |Validation Accuracy: 0.5940755208333334 Validation Loss: 0.009344767336940906\n",
            "Epoch 7: Train Accuracy: 0.6005100300747217 Train Loss: 0.04239863701142614 |Validation Accuracy: 0.6008752893518519 Validation Loss: 0.008997905004537425\n",
            "Epoch 8: Train Accuracy: 0.5998589278516727 Train Loss: 0.04109740764654355 |Validation Accuracy: 0.6000795717592593 Validation Loss: 0.008669004319594947\n",
            "Epoch 9: Train Accuracy: 0.5955725048832666 Train Loss: 0.04007433330535181 |Validation Accuracy: 0.5973307291666666 Validation Loss: 0.008520056778227893\n",
            "Epoch 10: Train Accuracy: 0.6006262983288376 Train Loss: 0.03931149593844612 |Validation Accuracy: 0.6012369791666666 Validation Loss: 0.008310720755632979\n",
            "Epoch 11: Train Accuracy: 0.6025563513471615 Train Loss: 0.038252226112946555 |Validation Accuracy: 0.6022497106481481 Validation Loss: 0.008172752230652008\n",
            "Epoch 12: Train Accuracy: 0.5999984497566118 Train Loss: 0.0373381002300394 |Validation Accuracy: 0.5967520254629629 Validation Loss: 0.007974951265473748\n"
          ]
        },
        {
          "output_type": "display_data",
          "data": {
            "text/plain": [
              "<Figure size 432x288 with 1 Axes>"
            ],
            "image/png": "[encoded data removed]"
          },
          "metadata": {
            "needs_background": "light"
          }
        },
        {
          "output_type": "display_data",
          "data": {
            "text/plain": [
              "<Figure size 432x288 with 1 Axes>"
            ],
            "image/png": "[encoded data removed]"
          },
          "metadata": {
            "needs_background": "light"
          }
        },
        {
          "output_type": "display_data",
          "data": {
            "text/plain": [
              "<Figure size 432x288 with 1 Axes>"
            ],
            "image/png": "[encoded data removed]"
          },
          "metadata": {
            "needs_background": "light"
          }
        },
        {
          "output_type": "display_data",
          "data": {
            "text/plain": [
              "<Figure size 432x288 with 1 Axes>"
            ],
            "image/png": "[encoded data removed]"
          },
          "metadata": {
            "needs_background": "light"
          }
        }
      ]
    },
    {
      "cell_type": "code",
      "source": [
        "# Model 3\n",
        "model_3 = AutoEncoder()\n",
        "# Increasing the batch size actually resulted in a lower accuracy at the 12th epoch, so\n",
        "# I decided to keep the batch_size the same at 32 and instead increased the learning rate in the\n",
        "# hopes of getting a higher accuracy at the 12th epoch.\n",
        "train(model_3, training_data, val_data, num_epochs=12, batch_size=32, learning_rate=0.001)"
      ],
      "metadata": {
        "colab": {
          "base_uri": "https://localhost:8080/",
          "height": 1346
        },
        "id": "zsabJmwwu5Jb",
        "outputId": "804fe265-0672-4fb9-8cc0-2824e067b2d2"
      },
      "execution_count": null,
      "outputs": [
        {
          "output_type": "stream",
          "name": "stdout",
          "text": [
            "Epoch 1: Train Accuracy: 0.558250395312064 Train Loss: 0.08007711014346418 |Validation Accuracy: 0.5598596643518519 Validation Loss: 0.011790574427256789\n",
            "Epoch 2: Train Accuracy: 0.5915031159892103 Train Loss: 0.04938344751522056 |Validation Accuracy: 0.5898799189814815 Validation Loss: 0.00956817734073211\n",
            "Epoch 3: Train Accuracy: 0.589131243605246 Train Loss: 0.04183416141067005 |Validation Accuracy: 0.5907841435185185 Validation Loss: 0.008644420747682563\n",
            "Epoch 4: Train Accuracy: 0.6083697640529563 Train Loss: 0.03900994812408227 |Validation Accuracy: 0.6068070023148148 Validation Loss: 0.008129428955899305\n",
            "Epoch 5: Train Accuracy: 0.615330356866028 Train Loss: 0.036766589249734714 |Validation Accuracy: 0.61328125 Validation Loss: 0.007683187188998551\n",
            "Epoch 6: Train Accuracy: 0.6083775152698974 Train Loss: 0.03543608451060076 |Validation Accuracy: 0.6089409722222222 Validation Loss: 0.007437597550617816\n",
            "Epoch 7: Train Accuracy: 0.6049204725141847 Train Loss: 0.034461546002888574 |Validation Accuracy: 0.6031901041666666 Validation Loss: 0.007350864984858975\n",
            "Epoch 8: Train Accuracy: 0.6118500604594922 Train Loss: 0.033796725991177876 |Validation Accuracy: 0.6104239004629629 Validation Loss: 0.00715641368507099\n",
            "Epoch 9: Train Accuracy: 0.6094084271230583 Train Loss: 0.03278328221219344 |Validation Accuracy: 0.6082537615740741 Validation Loss: 0.006961086175416944\n",
            "Epoch 10: Train Accuracy: 0.6114004898769106 Train Loss: 0.0319901375241168 |Validation Accuracy: 0.6099175347222222 Validation Loss: 0.006812131599721016\n",
            "Epoch 11: Train Accuracy: 0.6074706228877934 Train Loss: 0.03142741941092716 |Validation Accuracy: 0.6070240162037037 Validation Loss: 0.006694686760984771\n",
            "Epoch 12: Train Accuracy: 0.6134933184509969 Train Loss: 0.030680310620440594 |Validation Accuracy: 0.6124855324074074 Validation Loss: 0.006527867713420034\n"
          ]
        },
        {
          "output_type": "display_data",
          "data": {
            "text/plain": [
              "<Figure size 432x288 with 1 Axes>"
            ],
            "image/png": "[encoded data removed]"
          },
          "metadata": {
            "needs_background": "light"
          }
        },
        {
          "output_type": "display_data",
          "data": {
            "text/plain": [
              "<Figure size 432x288 with 1 Axes>"
            ],
            "image/png": "[encoded data removed]"
          },
          "metadata": {
            "needs_background": "light"
          }
        },
        {
          "output_type": "display_data",
          "data": {
            "text/plain": [
              "<Figure size 432x288 with 1 Axes>"
            ],
            "image/png": "[encoded data removed]"
          },
          "metadata": {
            "needs_background": "light"
          }
        },
        {
          "output_type": "display_data",
          "data": {
            "text/plain": [
              "<Figure size 432x288 with 1 Axes>"
            ],
            "image/png": "[encoded data removed]"
          },
          "metadata": {
            "needs_background": "light"
          }
        }
      ]
    },
    {
      "cell_type": "code",
      "source": [
        "# Model 4\n",
        "model_4 = AutoEncoder()\n",
        "# As a follow-up, I decided to use the same hyperparameters as Model 3 but with an increased number of epochs\n",
        "# to see how high the accuracy would go.\n",
        "train(model_4, training_data, val_data, num_epochs=20, batch_size=32, learning_rate=0.001)"
      ],
      "metadata": {
        "colab": {
          "base_uri": "https://localhost:8080/",
          "height": 1491
        },
        "id": "eBv4j68Xu5ls",
        "outputId": "6f121f67-a78c-4f03-e141-9a4906ac9e8b"
      },
      "execution_count": null,
      "outputs": [
        {
          "output_type": "stream",
          "name": "stdout",
          "text": [
            "Epoch 1: Train Accuracy: 0.5766130282454345 Train Loss: 0.07540357113438056 |Validation Accuracy: 0.5783781828703703 Validation Loss: 0.010366329223050405\n",
            "Epoch 2: Train Accuracy: 0.5962236071063157 Train Loss: 0.04174366074698641 |Validation Accuracy: 0.5946903935185185 Validation Loss: 0.008007068076291375\n",
            "Epoch 3: Train Accuracy: 0.5964638948314885 Train Loss: 0.03542643103521611 |Validation Accuracy: 0.5944372106481481 Validation Loss: 0.007390458684796564\n",
            "Epoch 4: Train Accuracy: 0.6031609462685642 Train Loss: 0.03331086854069849 |Validation Accuracy: 0.6004412615740741 Validation Loss: 0.006997228249973918\n",
            "Epoch 5: Train Accuracy: 0.605215018757945 Train Loss: 0.031885929754416266 |Validation Accuracy: 0.6031539351851852 Validation Loss: 0.006603528198856656\n",
            "Epoch 6: Train Accuracy: 0.6107648900877438 Train Loss: 0.029225619111270997 |Validation Accuracy: 0.6078559027777778 Validation Loss: 0.006102308705670518\n",
            "Epoch 7: Train Accuracy: 0.6041608532539609 Train Loss: 0.027400167104006258 |Validation Accuracy: 0.6037688078703703 Validation Loss: 0.005829126556109177\n",
            "Epoch 8: Train Accuracy: 0.6057963600285244 Train Loss: 0.026515808164032748 |Validation Accuracy: 0.6029730902777778 Validation Loss: 0.0055663283847903425\n",
            "Epoch 9: Train Accuracy: 0.6129429820481815 Train Loss: 0.02597564810480131 |Validation Accuracy: 0.6098451967592593 Validation Loss: 0.005496559689516121\n",
            "Epoch 10: Train Accuracy: 0.6073931107183828 Train Loss: 0.025341943286934985 |Validation Accuracy: 0.6065538194444444 Validation Loss: 0.005404536090625165\n",
            "Epoch 11: Train Accuracy: 0.6164542833224816 Train Loss: 0.024662132103710172 |Validation Accuracy: 0.6158854166666666 Validation Loss: 0.005262647081515233\n",
            "Epoch 12: Train Accuracy: 0.611571016649614 Train Loss: 0.02404940266018238 |Validation Accuracy: 0.6093026620370371 Validation Loss: 0.005189483729294913\n",
            "Epoch 13: Train Accuracy: 0.6159582054382539 Train Loss: 0.02352085659200157 |Validation Accuracy: 0.6142578125 Validation Loss: 0.005067404019155084\n",
            "Epoch 14: Train Accuracy: 0.6044631507146622 Train Loss: 0.023231653718037024 |Validation Accuracy: 0.6029007523148148 Validation Loss: 0.0050074155006507885\n",
            "Epoch 15: Train Accuracy: 0.6027888878553933 Train Loss: 0.022912548265432355 |Validation Accuracy: 0.6021050347222222 Validation Loss: 0.004862707003087558\n",
            "Epoch 16: Train Accuracy: 0.6137336061761697 Train Loss: 0.022545766039719643 |Validation Accuracy: 0.6127748842592593 Validation Loss: 0.0046995401252365576\n",
            "Epoch 17: Train Accuracy: 0.6099897683936378 Train Loss: 0.02228198373167157 |Validation Accuracy: 0.6085069444444444 Validation Loss: 0.004725871034752561\n",
            "Epoch 18: Train Accuracy: 0.6079046910364927 Train Loss: 0.022002964396788054 |Validation Accuracy: 0.6082899305555556 Validation Loss: 0.004635415769238883\n",
            "Epoch 19: Train Accuracy: 0.6140204012029888 Train Loss: 0.02171550785090337 |Validation Accuracy: 0.6131004050925926 Validation Loss: 0.004602037727234976\n",
            "Epoch 20: Train Accuracy: 0.6132375282919418 Train Loss: 0.021524944634662518 |Validation Accuracy: 0.6115813078703703 Validation Loss: 0.004563763519032218\n"
          ]
        },
        {
          "output_type": "display_data",
          "data": {
            "text/plain": [
              "<Figure size 432x288 with 1 Axes>"
            ],
            "image/png": "[encoded data removed]"
          },
          "metadata": {
            "needs_background": "light"
          }
        },
        {
          "output_type": "display_data",
          "data": {
            "text/plain": [
              "<Figure size 432x288 with 1 Axes>"
            ],
            "image/png": "[encoded data removed]"
          },
          "metadata": {
            "needs_background": "light"
          }
        },
        {
          "output_type": "display_data",
          "data": {
            "text/plain": [
              "<Figure size 432x288 with 1 Axes>"
            ],
            "image/png": "[encoded data removed]"
          },
          "metadata": {
            "needs_background": "light"
          }
        },
        {
          "output_type": "display_data",
          "data": {
            "text/plain": [
              "<Figure size 432x288 with 1 Axes>"
            ],
            "image/png": "[encoded data removed]"
          },
          "metadata": {
            "needs_background": "light"
          }
        }
      ]
    },
    {
      "cell_type": "code",
      "source": [
        "# Model 5\n",
        "model_5 = AutoEncoder()\n",
        "# As a final test, I wanted to see the results of applying all the changes used in each of the previous models\n",
        "# in one model. So I increased the epoch number to 20, batch_size to 64, and learning rate to 0.001 to see the results.\n",
        "train(model_5, training_data, val_data, num_epochs=20, batch_size=64, learning_rate=0.001)"
      ],
      "metadata": {
        "colab": {
          "base_uri": "https://localhost:8080/",
          "height": 1491
        },
        "id": "3XuBRndgzFpz",
        "outputId": "3f4a3a7c-06a6-49cb-a7e7-36b3f88f5c61"
      },
      "execution_count": null,
      "outputs": [
        {
          "output_type": "stream",
          "name": "stdout",
          "text": [
            "Epoch 1: Train Accuracy: 0.5336247790903171 Train Loss: 0.09417537534581802 |Validation Accuracy: 0.5368923611111112 Validation Loss: 0.012470725581094137\n",
            "Epoch 2: Train Accuracy: 0.5771788670821318 Train Loss: 0.0534968262300647 |Validation Accuracy: 0.5760633680555556 Validation Loss: 0.010836940126090093\n",
            "Epoch 3: Train Accuracy: 0.5988047623476885 Train Loss: 0.04831769959641847 |Validation Accuracy: 0.5962456597222222 Validation Loss: 0.009873951047393617\n",
            "Epoch 4: Train Accuracy: 0.6126871918891266 Train Loss: 0.04293816375272564 |Validation Accuracy: 0.6099898726851852 Validation Loss: 0.008752456791588389\n",
            "Epoch 5: Train Accuracy: 0.6054630577000589 Train Loss: 0.038976852856686985 |Validation Accuracy: 0.6018880208333334 Validation Loss: 0.008073731892098306\n",
            "Epoch 6: Train Accuracy: 0.611431494744675 Train Loss: 0.03629967889220672 |Validation Accuracy: 0.6083622685185185 Validation Loss: 0.007616361376528216\n",
            "Epoch 7: Train Accuracy: 0.6053700430967662 Train Loss: 0.034009820082465336 |Validation Accuracy: 0.6023220486111112 Validation Loss: 0.007226206511480164\n",
            "Epoch 8: Train Accuracy: 0.6130282454345333 Train Loss: 0.03260861819151247 |Validation Accuracy: 0.6096643518518519 Validation Loss: 0.006869782602486342\n",
            "Epoch 9: Train Accuracy: 0.6073543546336775 Train Loss: 0.031299272441589865 |Validation Accuracy: 0.6051070601851852 Validation Loss: 0.006636941650722076\n",
            "Epoch 10: Train Accuracy: 0.6007038104982482 Train Loss: 0.03018751387271577 |Validation Accuracy: 0.5984881365740741 Validation Loss: 0.0063817042315749105\n",
            "Epoch 11: Train Accuracy: 0.6146172449074505 Train Loss: 0.029640997165830622 |Validation Accuracy: 0.6155237268518519 Validation Loss: 0.006241039618938188\n",
            "Epoch 12: Train Accuracy: 0.6156714104114346 Train Loss: 0.028627538031038968 |Validation Accuracy: 0.6168981481481481 Validation Loss: 0.006058247074573259\n",
            "Epoch 13: Train Accuracy: 0.6161364834278982 Train Loss: 0.02801565356685252 |Validation Accuracy: 0.6192853009259259 Validation Loss: 0.005957680972685446\n",
            "Epoch 14: Train Accuracy: 0.6154233714693207 Train Loss: 0.027527854205813888 |Validation Accuracy: 0.6162471064814815 Validation Loss: 0.005815327289107999\n",
            "Epoch 15: Train Accuracy: 0.6125089138994823 Train Loss: 0.026799219718495887 |Validation Accuracy: 0.6120876736111112 Validation Loss: 0.005620604690484901\n",
            "Epoch 16: Train Accuracy: 0.615462127554026 Train Loss: 0.026451493345355775 |Validation Accuracy: 0.6138961226851852 Validation Loss: 0.005597993178785024\n",
            "Epoch 17: Train Accuracy: 0.6134313087154684 Train Loss: 0.025946350585812985 |Validation Accuracy: 0.6147641782407407 Validation Loss: 0.005481461118298751\n",
            "Epoch 18: Train Accuracy: 0.612865469878771 Train Loss: 0.025522674616282524 |Validation Accuracy: 0.6128110532407407 Validation Loss: 0.005440143464846144\n",
            "Epoch 19: Train Accuracy: 0.6099122562242272 Train Loss: 0.024814522512898247 |Validation Accuracy: 0.6103515625 Validation Loss: 0.005177980626018535\n",
            "Epoch 20: Train Accuracy: 0.6155163860726134 Train Loss: 0.02415703931265132 |Validation Accuracy: 0.6135706018518519 Validation Loss: 0.00516526986919454\n"
          ]
        },
        {
          "output_type": "display_data",
          "data": {
            "text/plain": [
              "<Figure size 432x288 with 1 Axes>"
            ],
            "image/png": "[encoded data removed]"
          },
          "metadata": {
            "needs_background": "light"
          }
        },
        {
          "output_type": "display_data",
          "data": {
            "text/plain": [
              "<Figure size 432x288 with 1 Axes>"
            ],
            "image/png": "[encoded data removed]"
          },
          "metadata": {
            "needs_background": "light"
          }
        },
        {
          "output_type": "display_data",
          "data": {
            "text/plain": [
              "<Figure size 432x288 with 1 Axes>"
            ],
            "image/png": "[encoded data removed]"
          },
          "metadata": {
            "needs_background": "light"
          }
        },
        {
          "output_type": "display_data",
          "data": {
            "text/plain": [
              "<Figure size 432x288 with 1 Axes>"
            ],
            "image/png": "[encoded data removed]"
          },
          "metadata": {
            "needs_background": "light"
          }
        }
      ]
    },
    {
      "cell_type": "markdown",
      "metadata": {
        "id": "ymCsZH291prI"
      },
      "source": [
        "## Part 4. Testing [12 pt]\n",
        "\n",
        "### Part (a) [2 pt]\n",
        "\n",
        "Compute and report the test accuracy."
      ]
    },
    {
      "cell_type": "code",
      "execution_count": null,
      "metadata": {
        "colab": {
          "base_uri": "https://localhost:8080/"
        },
        "id": "0OkSbup91prJ",
        "jupyter": {
          "outputs_hidden": true
        },
        "outputId": "a87d7753-0d90-42f5-82e1-655a9c1ba0c0"
      },
      "outputs": [
        {
          "output_type": "stream",
          "name": "stdout",
          "text": [
            "Final Test Accuracy: 0.6129918981481481\n"
          ]
        }
      ],
      "source": [
        "test_dataloader = torch.utils.data.DataLoader(test_data, batch_size=64, shuffle=True)\n",
        "test_accuracy = get_accuracy(model_5, test_dataloader)\n",
        "print(\"Final Test Accuracy:\", test_accuracy)"
      ]
    },
    {
      "cell_type": "markdown",
      "metadata": {
        "id": "UEe9yt6L1prM"
      },
      "source": [
        "### Part (b) [4 pt]\n",
        "\n",
        "Based on the test accuracy alone, it is difficult to assess whether our model\n",
        "is actually performing well. We don't know whether a high accuracy is due to\n",
        "the simplicity of the problem, or if a poor accuracy is a result of the inherent\n",
        "difficulty of the problem.\n",
        "\n",
        "It is therefore very important to be able to compare our model to at least one\n",
        "alternative. In particular, we consider a simple **baseline**\n",
        "model that is not very computationally expensive. Our neural network\n",
        "should at least outperform this baseline model. If our network is not much\n",
        "better than the baseline, then it is not doing well.\n",
        "\n",
        "For our data imputation problem, consider the following baseline model:\n",
        "to predict a missing feature, the baseline model will look at the **most common value** of the feature in the training set.\n",
        "\n",
        "For example, if the feature \"marriage\" is missing, then this model's prediction will be the most common value for \"marriage\" in the training set, which happens to be \"Married-civ-spouse\".\n",
        "\n",
        "What would be the test accuracy of this baseline model?\n"
      ]
    },
    {
      "cell_type": "code",
      "execution_count": null,
      "metadata": {
        "colab": {
          "base_uri": "https://localhost:8080/"
        },
        "id": "p45VHp011prN",
        "jupyter": {
          "outputs_hidden": true
        },
        "outputId": "6344da67-a0a0-4a25-ad59-85bb8d06c1e4"
      },
      "outputs": [
        {
          "output_type": "stream",
          "name": "stdout",
          "text": [
            "The test accuracy of the baseline model is: 0.4667947131974738\n"
          ]
        }
      ],
      "source": [
        "most_common_values = {}\n",
        "\n",
        "for column in df_not_missing.columns:\n",
        "  # get the most common value for each column\n",
        "  most_common_values[column] = df_not_missing[column].value_counts().idxmax()\n",
        "\n",
        "baseline_accuracy = sum(df_not_missing[\"marriage\"] == most_common_values[\"marriage\"])/len(df_not_missing)\n",
        "print(\"The test accuracy of the baseline model is:\", baseline_accuracy)"
      ]
    },
    {
      "cell_type": "markdown",
      "metadata": {
        "id": "QlHu0wxh1prP"
      },
      "source": [
        "### Part (c) [1 pt]\n",
        "\n",
        "How does your test accuracy from part (a) compared to your basline test accuracy in part (b)?"
      ]
    },
    {
      "cell_type": "code",
      "execution_count": null,
      "metadata": {
        "collapsed": true,
        "id": "1KQdwE_n1prQ",
        "jupyter": {
          "outputs_hidden": true
        }
      },
      "outputs": [],
      "source": [
        "# The test accuracy of my model from part a) was 0.6129918981481481 compared to the baseline\n",
        "# test accuracy of 0.4667947131974738. Therefore, my model is capable of producing better test results."
      ]
    },
    {
      "cell_type": "markdown",
      "metadata": {
        "id": "DfQPgu1Q1prS"
      },
      "source": [
        "### Part (d) [1 pt]\n",
        "\n",
        "Look at the first item in your test data.\n",
        "Do you think it is reasonable for a human\n",
        "to be able to guess this person's education level\n",
        "based on their other features? Explain."
      ]
    },
    {
      "cell_type": "code",
      "execution_count": null,
      "metadata": {
        "colab": {
          "base_uri": "https://localhost:8080/"
        },
        "id": "3qbQ1vvT1prT",
        "jupyter": {
          "outputs_hidden": true
        },
        "outputId": "38ffb3bc-6670-42fc-c3a4-f41d8b6927e9"
      },
      "outputs": [
        {
          "output_type": "execute_result",
          "data": {
            "text/plain": [
              "{'work': 'Private',\n",
              " 'marriage': 'Divorced',\n",
              " 'occupation': 'Prof-specialty',\n",
              " 'edu': 'Bachelors',\n",
              " 'relationship': 'Not-in-family',\n",
              " 'sex': 'Male'}"
            ]
          },
          "metadata": {},
          "execution_count": 54
        }
      ],
      "source": [
        "first_test_item = test_data[0]\n",
        "get_features(first_test_item)"
      ]
    },
    {
      "cell_type": "code",
      "source": [
        "# I would say that it would be reasonable for a human to guess the individual's level of education,\n",
        "# mainly by looking at their occupation. We can see that they are a Prof which would require some\n",
        "# form of post-secondary education."
      ],
      "metadata": {
        "id": "PdThjk4p33S7"
      },
      "execution_count": null,
      "outputs": []
    },
    {
      "cell_type": "markdown",
      "metadata": {
        "id": "p_d5uuAY1prZ"
      },
      "source": [
        "### Part (e) [2 pt]\n",
        "\n",
        "What is your model's prediction of this person's education\n",
        "level, given their other features?\n"
      ]
    },
    {
      "cell_type": "code",
      "execution_count": null,
      "metadata": {
        "colab": {
          "base_uri": "https://localhost:8080/",
          "height": 36
        },
        "id": "kBY5gKXR1pra",
        "jupyter": {
          "outputs_hidden": true
        },
        "outputId": "094150c9-2d3c-4730-c358-009f9ddde59d"
      },
      "outputs": [
        {
          "output_type": "execute_result",
          "data": {
            "text/plain": [
              "'Bachelors'"
            ],
            "application/vnd.google.colaboratory.intrinsic+json": {
              "type": "string"
            }
          },
          "metadata": {},
          "execution_count": 58
        }
      ],
      "source": [
        "actual_education = zero_out_feature(test_data[:1], \"edu\")[0]\n",
        "predicted_education = model_5(torch.from_numpy(actual_education))\n",
        "get_feature(predicted_education.detach().numpy(), \"edu\")"
      ]
    },
    {
      "cell_type": "code",
      "source": [
        "# My model predicted that the person's education level is a Bachelors, which is correct."
      ],
      "metadata": {
        "id": "nPkT1yHi5nw1"
      },
      "execution_count": null,
      "outputs": []
    },
    {
      "cell_type": "markdown",
      "metadata": {
        "id": "fdLNA0ce1prd"
      },
      "source": [
        "### Part (f) [2 pt]\n",
        "\n",
        "What is the baseline model's prediction\n",
        "of this person's education level?"
      ]
    },
    {
      "cell_type": "code",
      "execution_count": null,
      "metadata": {
        "colab": {
          "base_uri": "https://localhost:8080/",
          "height": 36
        },
        "id": "TXgoM9qk1prd",
        "jupyter": {
          "outputs_hidden": true
        },
        "outputId": "31d83ba8-0af5-48e6-ea5a-5df133bdf794"
      },
      "outputs": [
        {
          "output_type": "execute_result",
          "data": {
            "text/plain": [
              "' HS-grad'"
            ],
            "application/vnd.google.colaboratory.intrinsic+json": {
              "type": "string"
            }
          },
          "metadata": {},
          "execution_count": 56
        }
      ],
      "source": [
        "most_common_values[\"edu\"]"
      ]
    },
    {
      "cell_type": "code",
      "source": [
        "# The baseline's prediction is highschool graduate, which is incorrect."
      ],
      "metadata": {
        "id": "WCvvjlAt4qCY"
      },
      "execution_count": null,
      "outputs": []
    }
  ],
  "metadata": {
    "colab": {
      "collapsed_sections": [
        "HwjDg1uM1pqe",
        "OEJ0Ci3l1pqh",
        "1_5ZZR_J1pqy",
        "WKk01pwx1pq_",
        "SxCTlXoV1prB",
        "h9xTwIf51prF",
        "UEe9yt6L1prM",
        "QlHu0wxh1prP",
        "DfQPgu1Q1prS",
        "p_d5uuAY1prZ",
        "fdLNA0ce1prd"
      ],
      "provenance": []
    },
    "kernelspec": {
      "display_name": "Python 3 (ipykernel)",
      "language": "python",
      "name": "python3"
    },
    "language_info": {
      "codemirror_mode": {
        "name": "ipython",
        "version": 3
      },
      "file_extension": ".py",
      "mimetype": "text/x-python",
      "name": "python",
      "nbconvert_exporter": "python",
      "pygments_lexer": "ipython3",
      "version": "3.9.4"
    },
    "accelerator": "GPU",
    "gpuClass": "standard"
  },
  "nbformat": 4,
  "nbformat_minor": 0
}