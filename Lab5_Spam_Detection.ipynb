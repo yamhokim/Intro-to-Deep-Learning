{
  "cells": [
    {
      "cell_type": "markdown",
      "metadata": {
        "id": "_bphECiUa9zw"
      },
      "source": [
        "# Lab 5: Spam Detection\n",
        "\n",
        "In this assignment, we will build a recurrent neural network to classify a SMS text message\n",
        "as \"spam\" or \"not spam\". In the process, you will\n",
        "    \n",
        "1. Clean and process text data for machine learning.\n",
        "2. Understand and implement a character-level recurrent neural network.\n",
        "3. Use torchtext to build recurrent neural network models.\n",
        "4. Understand batching for a recurrent neural network, and use torchtext to implement RNN batching.\n",
        "\n"
      ]
    },
    {
      "cell_type": "markdown",
      "metadata": {
        "id": "ucn51JpmRP34"
      },
      "source": [
        "As we are using the older version of the torchtext, please run the following to downgrade the torchtext version:"
      ]
    },
    {
      "cell_type": "markdown",
      "metadata": {
        "id": "cnwYUN4LRP35"
      },
      "source": [
        "!pip install -U torch==1.8.0+cu111 torchtext==0.9.0 -f https://download.pytorch.org/whl/torch_stable.html"
      ]
    },
    {
      "cell_type": "code",
      "source": [
        "!pip install -U torch==1.8.0+cu111 torchtext==0.9.0 -f https://download.pytorch.org/whl/torch_stable.html"
      ],
      "metadata": {
        "colab": {
          "base_uri": "https://localhost:8080/"
        },
        "id": "SOh55nI9RiuH",
        "outputId": "daa7c5ca-9927-4552-caac-cb90afe9c657"
      },
      "execution_count": null,
      "outputs": [
        {
          "output_type": "stream",
          "name": "stdout",
          "text": [
            "Looking in indexes: https://pypi.org/simple, https://us-python.pkg.dev/colab-wheels/public/simple/\n",
            "Looking in links: https://download.pytorch.org/whl/torch_stable.html\n",
            "Collecting torch==1.8.0+cu111\n",
            "  Downloading https://download.pytorch.org/whl/cu111/torch-1.8.0%2Bcu111-cp39-cp39-linux_x86_64.whl (1982.3 MB)\n",
            "\u001b[2K     \u001b[90m━━━━━━━━━━━━━━━━━━━━━━━━━━━━━━━━━━━━━━━━\u001b[0m \u001b[32m2.0/2.0 GB\u001b[0m \u001b[31m822.9 kB/s\u001b[0m eta \u001b[36m0:00:00\u001b[0m\n",
            "\u001b[?25hCollecting torchtext==0.9.0\n",
            "  Downloading torchtext-0.9.0-cp39-cp39-manylinux1_x86_64.whl (7.0 MB)\n",
            "\u001b[2K     \u001b[90m━━━━━━━━━━━━━━━━━━━━━━━━━━━━━━━━━━━━━━━━\u001b[0m \u001b[32m7.0/7.0 MB\u001b[0m \u001b[31m49.1 MB/s\u001b[0m eta \u001b[36m0:00:00\u001b[0m\n",
            "\u001b[?25hRequirement already satisfied: numpy in /usr/local/lib/python3.9/dist-packages (from torch==1.8.0+cu111) (1.22.4)\n",
            "Requirement already satisfied: typing-extensions in /usr/local/lib/python3.9/dist-packages (from torch==1.8.0+cu111) (4.5.0)\n",
            "Requirement already satisfied: requests in /usr/local/lib/python3.9/dist-packages (from torchtext==0.9.0) (2.25.1)\n",
            "Requirement already satisfied: tqdm in /usr/local/lib/python3.9/dist-packages (from torchtext==0.9.0) (4.65.0)\n",
            "Requirement already satisfied: certifi>=2017.4.17 in /usr/local/lib/python3.9/dist-packages (from requests->torchtext==0.9.0) (2022.12.7)\n",
            "Requirement already satisfied: chardet<5,>=3.0.2 in /usr/local/lib/python3.9/dist-packages (from requests->torchtext==0.9.0) (4.0.0)\n",
            "Requirement already satisfied: idna<3,>=2.5 in /usr/local/lib/python3.9/dist-packages (from requests->torchtext==0.9.0) (2.10)\n",
            "Requirement already satisfied: urllib3<1.27,>=1.21.1 in /usr/local/lib/python3.9/dist-packages (from requests->torchtext==0.9.0) (1.26.14)\n",
            "Installing collected packages: torch, torchtext\n",
            "  Attempting uninstall: torch\n",
            "    Found existing installation: torch 1.13.1+cu116\n",
            "    Uninstalling torch-1.13.1+cu116:\n",
            "      Successfully uninstalled torch-1.13.1+cu116\n",
            "  Attempting uninstall: torchtext\n",
            "    Found existing installation: torchtext 0.14.1\n",
            "    Uninstalling torchtext-0.14.1:\n",
            "      Successfully uninstalled torchtext-0.14.1\n",
            "\u001b[31mERROR: pip's dependency resolver does not currently take into account all the packages that are installed. This behaviour is the source of the following dependency conflicts.\n",
            "torchvision 0.14.1+cu116 requires torch==1.13.1, but you have torch 1.8.0+cu111 which is incompatible.\n",
            "torchaudio 0.13.1+cu116 requires torch==1.13.1, but you have torch 1.8.0+cu111 which is incompatible.\u001b[0m\u001b[31m\n",
            "\u001b[0mSuccessfully installed torch-1.8.0+cu111 torchtext-0.9.0\n"
          ]
        }
      ]
    },
    {
      "cell_type": "markdown",
      "metadata": {
        "id": "M8Rab6a2RP35"
      },
      "source": [
        "If you are interested to use the most recent version if torchtext, you can look at the following document to see how to convert the legacy version to the new version:\n",
        "https://colab.research.google.com/github/pytorch/text/blob/master/examples/legacy_tutorial/migration_tutorial.ipynb"
      ]
    },
    {
      "cell_type": "code",
      "execution_count": null,
      "metadata": {
        "id": "HgfNOUaPa9z8",
        "tags": []
      },
      "outputs": [],
      "source": [
        "import torch\n",
        "import torch.nn as nn\n",
        "import torch.nn.functional as F\n",
        "import torch.optim as optim\n",
        "import numpy as np"
      ]
    },
    {
      "cell_type": "markdown",
      "metadata": {
        "id": "M0jLI9LBa90C"
      },
      "source": [
        "## Part 1. Data Cleaning [15 pt]\n",
        "\n",
        "We will be using the \"SMS Spam Collection Data Set\" available at http://archive.ics.uci.edu/ml/datasets/SMS+Spam+Collection\n",
        "\n",
        "There is a link to download the \"Data Folder\" at the very top of the webpage. Download the zip file, unzip it, and upload the file `SMSSpamCollection` to Colab.    "
      ]
    },
    {
      "cell_type": "code",
      "source": [],
      "metadata": {
        "id": "tixE3XXtS0aA"
      },
      "execution_count": null,
      "outputs": []
    },
    {
      "cell_type": "markdown",
      "metadata": {
        "id": "sSuF7C_Ga90E"
      },
      "source": [
        "### Part (a) [2 pt]\n",
        "\n",
        "Open up the file in Python, and print out one example of a spam SMS, and one example of a non-spam SMS.\n",
        "\n",
        "What is the label value for a spam message, and what is the label value for a non-spam message?"
      ]
    },
    {
      "cell_type": "code",
      "execution_count": null,
      "metadata": {
        "colab": {
          "base_uri": "https://localhost:8080/"
        },
        "collapsed": true,
        "id": "I_IfXHeTa90F",
        "jupyter": {
          "outputs_hidden": true
        },
        "outputId": "37396748-914d-4587-8ec2-5d51185a9191"
      },
      "outputs": [
        {
          "output_type": "stream",
          "name": "stdout",
          "text": [
            "Non-spam SMS example: ham\tGo until jurong point, crazy.. Available only in bugis n great world la e buffet... Cine there got amore wat...\n",
            "\n",
            "Label value for non-spam SMS: ham\n",
            "Spam SMS example: spam\tFree entry in 2 a wkly comp to win FA Cup final tkts 21st May 2005. Text FA to 87121 to receive entry question(std txt rate)T&C's apply 08452810075over18's\n",
            "\n",
            "Label value for spam SMS: spam\n"
          ]
        }
      ],
      "source": [
        "counter = 1\n",
        "spam_counter = 1\n",
        "for line in open('SMSSpamCollection'):\n",
        "  if line.split()[0] == \"ham\" and counter == 1:\n",
        "    print(\"Non-spam SMS example:\", line)\n",
        "    print(\"Label value for non-spam SMS:\", line.split()[0])\n",
        "    counter -= 1\n",
        "  elif line.split()[0] == \"spam\" and spam_counter == 1:\n",
        "    print(\"Spam SMS example:\", line)\n",
        "    print(\"Label value for spam SMS:\", line.split()[0])\n",
        "    spam_counter -= 1"
      ]
    },
    {
      "cell_type": "markdown",
      "metadata": {
        "id": "AukA6vMVa90d"
      },
      "source": [
        "### Part (b) [1 pt]\n",
        "\n",
        "How many spam messages are there in the data set?\n",
        "How many non-spam messages are there in the data set?\n"
      ]
    },
    {
      "cell_type": "code",
      "execution_count": null,
      "metadata": {
        "colab": {
          "base_uri": "https://localhost:8080/"
        },
        "collapsed": true,
        "id": "LgsqyemVa90e",
        "jupyter": {
          "outputs_hidden": true
        },
        "outputId": "03962c8d-9bc5-4b9c-b8fc-b354ac3aaff6"
      },
      "outputs": [
        {
          "output_type": "stream",
          "name": "stdout",
          "text": [
            "Number of non-spam messages: 4827\n",
            "Number of spam_messages: 747\n"
          ]
        }
      ],
      "source": [
        "non_spam_messages = 0\n",
        "spam_messages = 0\n",
        "for line in open('SMSSpamCollection'):\n",
        "  if line.split()[0] == \"ham\":\n",
        "    non_spam_messages += 1\n",
        "  elif line.split()[0] == \"spam\":\n",
        "    spam_messages += 1\n",
        "\n",
        "print(\"Number of non-spam messages:\", non_spam_messages)\n",
        "print(\"Number of spam_messages:\", spam_messages)"
      ]
    },
    {
      "cell_type": "markdown",
      "metadata": {
        "id": "d1WXxVt6a90h"
      },
      "source": [
        "### Part (c) [4 pt]\n",
        "\n",
        "We will be using the package `torchtext` to load, process, and batch the data.\n",
        "A tutorial to torchtext is available below. This tutorial uses the same\n",
        "Sentiment140 data set that we explored during lecture.\n",
        "\n",
        "https://medium.com/@sonicboom8/sentiment-analysis-torchtext-55fb57b1fab8\n",
        "\n",
        "Unlike what we did during lecture, we will be building a **character level RNN**.\n",
        "That is, we will treat each **character** as a token in our sequence,\n",
        "rather than each **word**.\n",
        "\n",
        "Identify two advantage and two disadvantage of modelling SMS text\n",
        "messages as a sequence of characters rather than a sequence of words."
      ]
    },
    {
      "cell_type": "code",
      "execution_count": null,
      "metadata": {
        "collapsed": true,
        "id": "Mhnz8Nk-a90i",
        "jupyter": {
          "outputs_hidden": true
        }
      },
      "outputs": [],
      "source": [
        "# One advantage of modelling SMS text messages as a sequence of characters is that characters are capable of capturing\n",
        "# important information such as capitalization and spellign mistakes that could be missed if words were used instead.\n",
        "# This allows for more flexibility which can improve accuracy when performing tasks such as sentiment analysis.\n",
        "# Another advantage would be that it would eliminate the problem of out of vocabulary words. Since we are focusing on letters\n",
        "# rather than words, it completely eliminates the issue of explicitly modelling individual words. This simiplifies the process\n",
        "# of capturing and learning from rare words.\n",
        "\n",
        "# One disadvantage of modelling using characters is the increased complexity that comes as a result. Since there will always be\n",
        "# more characters than words, the input data will be of much larger size and the model will have to learn patterns at the\n",
        "# character level. This would increase the training time and the complexity of the model. Another disadvantage would be the fact\n",
        "# that characters themselves have little to no semantic meaning. So if we simply focus on the characters, it would be quite\n",
        "# difficult to capture the meaning of phrases and words."
      ]
    },
    {
      "cell_type": "markdown",
      "metadata": {
        "id": "ie_D0bv9a90k"
      },
      "source": [
        "### Part (d) [1 pt]\n",
        "\n",
        "We will be loading our data set using `torchtext.data.TabularDataset`. The\n",
        "constructor will read directly from the `SMSSpamCollection` file.\n",
        "\n",
        "For the data file to be read successfuly, we\n",
        "need to specify the **fields** (columns) in the file.\n",
        "In our case, the dataset has two fields:\n",
        "\n",
        "- a text field containing the sms messages,\n",
        "- a label field which will be converted into a binary label.\n",
        "\n",
        "Split the dataset into `train`, `valid`, and `test`. Use a 60-20-20 split.\n",
        "You may find this torchtext API page helpful:\n",
        "https://torchtext.readthedocs.io/en/latest/data.html#dataset\n",
        "\n",
        "Hint: There is a `Dataset` method that can perform the random split for you."
      ]
    },
    {
      "cell_type": "code",
      "source": [
        "import torchtext\n",
        "\n",
        "text_field = torchtext.legacy.data.Field(sequential=True,      # text sequence\n",
        "                                  tokenize=lambda x: x, # because are building a character-RNN\n",
        "                                  include_lengths=True, # to track the length of sequences, for batching\n",
        "                                  batch_first=True,\n",
        "                                  use_vocab=True)       # to turn each character into an integer index\n",
        "label_field = torchtext.legacy.data.Field(sequential=False,    # not a sequence\n",
        "                                   use_vocab=False,     # don't need to track vocabulary\n",
        "                                   is_target=True,\n",
        "                                   batch_first=True,\n",
        "                                   preprocessing=lambda x: int(x == 'spam')) # convert text to 0 and 1\n",
        "\n",
        "fields = [('label', label_field), ('sms', text_field)]\n",
        "dataset = torchtext.legacy.data.TabularDataset(\"SMSSpamCollection\", # name of the file\n",
        "                                        \"tsv\",               # fields are separated by a tab\n",
        "                                        fields)\n",
        "\n",
        "train, valid, test = dataset.split([0.6, 0.2, 0.2], True)\n",
        "print(\"training items:\", len(train))\n",
        "print(\"validation items:\", len(valid))\n",
        "print(\"testing items:\", len(test))"
      ],
      "metadata": {
        "colab": {
          "base_uri": "https://localhost:8080/"
        },
        "id": "c4ElbekuX5-t",
        "outputId": "cbc92873-624b-45bc-8734-ef0be49ca4a8"
      },
      "execution_count": null,
      "outputs": [
        {
          "output_type": "stream",
          "name": "stdout",
          "text": [
            "training items: 3343\n",
            "validation items: 1115\n",
            "testing items: 1114\n"
          ]
        }
      ]
    },
    {
      "cell_type": "markdown",
      "metadata": {
        "id": "v6nP0Ks_a90o"
      },
      "source": [
        "### Part (e) [2 pt]\n",
        "\n",
        "You saw in part (b) that there are many more non-spam messages than spam messages.\n",
        "This **imbalance** in our training data will be problematic for training.\n",
        "We can fix this disparity by duplicating spam messages in the training set,\n",
        "so that the training set is roughly **balanced**.\n",
        "\n",
        "Explain why having a balanced training set is helpful for training our neural network.\n",
        "\n",
        "Note: if you are not sure, try removing the below code and train your mode."
      ]
    },
    {
      "cell_type": "code",
      "execution_count": null,
      "metadata": {
        "collapsed": true,
        "id": "FWvx9_rka90p",
        "jupyter": {
          "outputs_hidden": true
        }
      },
      "outputs": [],
      "source": [
        "# save the original training examples\n",
        "old_train_examples = train.examples\n",
        "# get all the spam messages in `train`\n",
        "train_spam = []\n",
        "for item in train.examples:\n",
        "    if item.label == 1:\n",
        "        train_spam.append(item)\n",
        "# duplicate each spam message 6 more times\n",
        "train.examples = old_train_examples + train_spam * 6"
      ]
    },
    {
      "cell_type": "code",
      "source": [
        "# Having a balanced dataset will prove to be extremely helpful to training the neural network since it helps to\n",
        "# prevent biases and inaccuracies in its final predictions. If the training dataset is left unbalanced, where there\n",
        "# are several more examples of one type than another, the end result will be a network that is much more likely\n",
        "# to predict that something is a \"ham\" message rather than a \"spam\" message. Even if we made it so that the\n",
        "# model predicted \"ham\" on every single message in the trainign set, the model would achieve a deceivingly high\n",
        "# accuracy rating."
      ],
      "metadata": {
        "id": "DfNxYsTsaFSS"
      },
      "execution_count": null,
      "outputs": []
    },
    {
      "cell_type": "markdown",
      "metadata": {
        "id": "j7eUmBEva90r"
      },
      "source": [
        "### Part (f) [1 pt]\n",
        "\n",
        "We need to build the vocabulary on the training data by running the below code.\n",
        "This finds all the possible character tokens in the training set.\n",
        "\n",
        "Explain what the variables `text_field.vocab.stoi` and `text_field.vocab.itos` represent."
      ]
    },
    {
      "cell_type": "code",
      "execution_count": null,
      "metadata": {
        "colab": {
          "base_uri": "https://localhost:8080/"
        },
        "id": "8CQM8flKa90s",
        "jupyter": {
          "outputs_hidden": true
        },
        "outputId": "ebce3a12-2e8d-4b0a-a54d-66743edb0384"
      },
      "outputs": [
        {
          "output_type": "stream",
          "name": "stdout",
          "text": [
            "STOI\n",
            "defaultdict(<bound method Vocab._default_unk_index of <torchtext.vocab.Vocab object at 0x7f26762101f0>>, {'<unk>': 0, '<pad>': 1, ' ': 2, 'e': 3, 'o': 4, 't': 5, 'a': 6, 'n': 7, 'r': 8, 'i': 9, 's': 10, 'l': 11, 'u': 12, 'h': 13, 'd': 14, '.': 15, '0': 16, 'c': 17, 'm': 18, 'y': 19, 'w': 20, 'p': 21, 'g': 22, '1': 23, 'f': 24, 'b': 25, '2': 26, 'T': 27, '8': 28, 'k': 29, 'E': 30, 'v': 31, 'S': 32, '5': 33, 'I': 34, 'O': 35, 'C': 36, '4': 37, '7': 38, 'N': 39, 'A': 40, 'x': 41, '6': 42, '3': 43, 'R': 44, '!': 45, ',': 46, 'P': 47, '9': 48, 'U': 49, 'M': 50, 'W': 51, 'L': 52, 'H': 53, 'D': 54, 'F': 55, 'B': 56, 'G': 57, '/': 58, \"'\": 59, 'Y': 60, '?': 61, '£': 62, '-': 63, '&': 64, ':': 65, 'X': 66, 'V': 67, 'z': 68, 'j': 69, 'K': 70, ')': 71, 'J': 72, '+': 73, ';': 74, '*': 75, '(': 76, 'Q': 77, '\"': 78, 'q': 79, '#': 80, '>': 81, '@': 82, '=': 83, 'Z': 84, 'ü': 85, 'Ü': 86, '<': 87, '‘': 88, '|': 89, '_': 90, '\\x92': 91, '[': 92, ']': 93, '$': 94, '…': 95, '\\x93': 96, 'ú': 97, '–': 98, '“': 99, '%': 100, '\\\\': 101, '\\x94': 102, '^': 103, '~': 104, '\\x96': 105, '»': 106, '—': 107, '┾': 108, '〨': 109, '鈥': 110})\n",
            "\n",
            "\n",
            "ITOS\n",
            "['<unk>', '<pad>', ' ', 'e', 'o', 't', 'a', 'n', 'r', 'i', 's', 'l', 'u', 'h', 'd', '.', '0', 'c', 'm', 'y', 'w', 'p', 'g', '1', 'f', 'b', '2', 'T', '8', 'k', 'E', 'v', 'S', '5', 'I', 'O', 'C', '4', '7', 'N', 'A', 'x', '6', '3', 'R', '!', ',', 'P', '9', 'U', 'M', 'W', 'L', 'H', 'D', 'F', 'B', 'G', '/', \"'\", 'Y', '?', '£', '-', '&', ':', 'X', 'V', 'z', 'j', 'K', ')', 'J', '+', ';', '*', '(', 'Q', '\"', 'q', '#', '>', '@', '=', 'Z', 'ü', 'Ü', '<', '‘', '|', '_', '\\x92', '[', ']', '$', '…', '\\x93', 'ú', '–', '“', '%', '\\\\', '\\x94', '^', '~', '\\x96', '»', '—', '┾', '〨', '鈥']\n"
          ]
        }
      ],
      "source": [
        "text_field.build_vocab(train)\n",
        "print(\"STOI\")\n",
        "print(text_field.vocab.stoi)\n",
        "print(\"\\n\")\n",
        "print(\"ITOS\")\n",
        "print(text_field.vocab.itos)"
      ]
    },
    {
      "cell_type": "code",
      "source": [
        "# The 'stoi' stands for string to index, and the variable text_field.vocab.stoi itself is a dictionary-like object that maps each token in the vocabulary of the\n",
        "# text_field to a corresponding integer value which acts as a label.\n",
        "# The 'itos' stands for index to string and the variable text_field.vocab.itos is a list-like object that lists out token characters according to their integer label."
      ],
      "metadata": {
        "id": "4cXNLCcxbQ0x"
      },
      "execution_count": null,
      "outputs": []
    },
    {
      "cell_type": "markdown",
      "metadata": {
        "id": "TC8WVE8Ua90u"
      },
      "source": [
        "### Part (g) [2 pt]\n",
        "\n",
        "The tokens `<unk>` and `<pad>` were not in our SMS text messages.\n",
        "What do these two values represent?"
      ]
    },
    {
      "cell_type": "code",
      "execution_count": null,
      "metadata": {
        "id": "y_4Er7KUa90v",
        "tags": []
      },
      "outputs": [],
      "source": [
        "# <unk> represents all unknown characters tokens that do not exist in the vocabulary/dictionary used by the model.\n",
        "# <pad> is another special token which is simply used as padding within sentences to help fix them all to the same length.\n",
        "# The <pad> token is typically added to the end of shorter sentences to make sure all of them are at a fixed length."
      ]
    },
    {
      "cell_type": "markdown",
      "metadata": {
        "id": "Ff5CNk7Qa90y"
      },
      "source": [
        "### Part (h) [2 pt]\n",
        "\n",
        "Since text sequences are of variable length, `torchtext` provides a `BucketIterator` data loader,\n",
        "which batches similar length sequences together. The iterator also provides functionalities to\n",
        "pad sequences automatically.\n",
        "\n",
        "Take a look at 10 batches in `train_iter`. What is the maximum length of the\n",
        "input sequence in each batch? How many `<pad>` tokens are used in each of the 10\n",
        "batches?"
      ]
    },
    {
      "cell_type": "code",
      "execution_count": null,
      "metadata": {
        "collapsed": true,
        "id": "V8N8qLWOa90y",
        "jupyter": {
          "outputs_hidden": true
        }
      },
      "outputs": [],
      "source": [
        "train_iter = torchtext.legacy.data.BucketIterator(train,\n",
        "                                           batch_size=32,\n",
        "                                           sort_key=lambda x: len(x.sms), # to minimize padding\n",
        "                                           sort_within_batch=True,        # sort within each batch\n",
        "                                           repeat=False)                  # repeat the iterator for many epochs"
      ]
    },
    {
      "cell_type": "code",
      "source": [
        "for batch in train_iter:\n",
        "  print(len(batch))\n",
        "  print(batch.sms)\n",
        "  print(batch.label)"
      ],
      "metadata": {
        "id": "JQ9nPMcIeR04"
      },
      "execution_count": null,
      "outputs": []
    },
    {
      "cell_type": "code",
      "execution_count": null,
      "metadata": {
        "colab": {
          "base_uri": "https://localhost:8080/"
        },
        "collapsed": true,
        "id": "Qwz-rOaha902",
        "jupyter": {
          "outputs_hidden": true
        },
        "outputId": "d12bdb8d-82f6-4bd5-c070-0a1389f1c0c8"
      },
      "outputs": [
        {
          "output_type": "stream",
          "name": "stdout",
          "text": [
            "Batch 1:\n",
            "\tMax length is 70\n",
            "\tNumber of <pad> tokens used: 50\n",
            "Batch 2:\n",
            "\tMax length is 82\n",
            "\tNumber of <pad> tokens used: 32\n",
            "Batch 3:\n",
            "\tMax length is 26\n",
            "\tNumber of <pad> tokens used: 25\n",
            "Batch 4:\n",
            "\tMax length is 23\n",
            "\tNumber of <pad> tokens used: 27\n",
            "Batch 5:\n",
            "\tMax length is 158\n",
            "\tNumber of <pad> tokens used: 0\n",
            "Batch 6:\n",
            "\tMax length is 65\n",
            "\tNumber of <pad> tokens used: 62\n",
            "Batch 7:\n",
            "\tMax length is 101\n",
            "\tNumber of <pad> tokens used: 60\n",
            "Batch 8:\n",
            "\tMax length is 13\n",
            "\tNumber of <pad> tokens used: 170\n",
            "Batch 9:\n",
            "\tMax length is 146\n",
            "\tNumber of <pad> tokens used: 0\n",
            "Batch 10:\n",
            "\tMax length is 25\n",
            "\tNumber of <pad> tokens used: 25\n"
          ]
        }
      ],
      "source": [
        "counter = 0\n",
        "for batch in train_iter:\n",
        "  if counter == 10:\n",
        "    break\n",
        "  else:\n",
        "    padding = 0\n",
        "    print(\"Batch {}:\".format(counter+1))\n",
        "    max_length = batch.sms[1][0]\n",
        "    print(\"\\tMax length is {}\".format(max_length))\n",
        "    for sms in batch.sms[1]:\n",
        "        padding += batch.sms[1][0] - sms\n",
        "    print(\"\\tNumber of <pad> tokens used:\", int(padding))\n",
        "  counter += 1"
      ]
    },
    {
      "cell_type": "markdown",
      "metadata": {
        "id": "y7HnqP6_a904"
      },
      "source": [
        "## Part 2. Model Building [8 pt]\n",
        "\n",
        "Build a recurrent neural network model, using an architecture of your choosing.\n",
        "Use the one-hot embedding of each character as input to your recurrent network.\n",
        "Use one or more fully-connected layers to make the prediction based on your\n",
        "recurrent network output.\n",
        "\n",
        "Instead of using the RNN output value for the final token, another often used\n",
        "strategy is to max-pool over the entire output array. That is, instead of calling\n",
        "something like:\n",
        "\n",
        "```\n",
        "out, _ = self.rnn(x)\n",
        "self.fc(out[:, -1, :])\n",
        "```\n",
        "\n",
        "where `self.rnn` is an `nn.RNN`, `nn.GRU`, or `nn.LSTM` module, and `self.fc` is a\n",
        "fully-connected\n",
        "layer, we use:\n",
        "\n",
        "```\n",
        "out, _ = self.rnn(x)\n",
        "self.fc(torch.max(out, dim=1)[0])\n",
        "```\n",
        "\n",
        "This works reasonably in practice. An even better alternative is to concatenate the\n",
        "max-pooling and average-pooling of the RNN outputs:\n",
        "\n",
        "```\n",
        "out, _ = self.rnn(x)\n",
        "out = torch.cat([torch.max(out, dim=1)[0],\n",
        "                 torch.mean(out, dim=1)], dim=1)\n",
        "self.fc(out)\n",
        "```\n",
        "\n",
        "We encourage you to try out all these options. The way you pool the RNN outputs\n",
        "is one of the \"hyperparameters\" that you can choose to tune later on."
      ]
    },
    {
      "cell_type": "code",
      "execution_count": null,
      "metadata": {
        "colab": {
          "base_uri": "https://localhost:8080/"
        },
        "collapsed": true,
        "id": "jHl1p_Wwa905",
        "jupyter": {
          "outputs_hidden": true
        },
        "outputId": "b961caf5-b769-4dce-efdf-918e37a943ab"
      },
      "outputs": [
        {
          "output_type": "stream",
          "name": "stdout",
          "text": [
            "tensor([1., 0., 0., 0., 0., 0., 0., 0., 0., 0.])\n",
            "tensor([0., 1., 0., 0., 0., 0., 0., 0., 0., 0.])\n",
            "tensor([[[0., 1., 0., 0., 0., 0., 0., 0., 0., 0.],\n",
            "         [0., 0., 1., 0., 0., 0., 0., 0., 0., 0.]],\n",
            "\n",
            "        [[0., 0., 0., 1., 0., 0., 0., 0., 0., 0.],\n",
            "         [0., 0., 0., 0., 1., 0., 0., 0., 0., 0.]]])\n"
          ]
        }
      ],
      "source": [
        "# You might find this code helpful for obtaining\n",
        "# PyTorch one-hot vectors.\n",
        "\n",
        "ident = torch.eye(10)\n",
        "print(ident[0]) # one-hot vector\n",
        "print(ident[1]) # one-hot vector\n",
        "x = torch.tensor([[1, 2], [3, 4]])\n",
        "print(ident[x]) # one-hot vectors"
      ]
    },
    {
      "cell_type": "code",
      "source": [
        "characters = text_field.vocab.itos\n",
        "input_size = len(characters)"
      ],
      "metadata": {
        "id": "R3FlPkPHpUGX"
      },
      "execution_count": null,
      "outputs": []
    },
    {
      "cell_type": "code",
      "execution_count": null,
      "metadata": {
        "collapsed": true,
        "id": "4LTQ7zFka909",
        "jupyter": {
          "outputs_hidden": true
        }
      },
      "outputs": [],
      "source": [
        "class RNN(nn.Module):\n",
        "  def __init__(self, hidden_size, input_size):\n",
        "    super(RNN, self).__init__()\n",
        "    self.name = \"RNN\"\n",
        "    self.emb = torch.eye(input_size)\n",
        "    self.hidden_size = hidden_size\n",
        "    self.rnn = nn.RNN(input_size, hidden_size, batch_first=True)\n",
        "    self.fc = nn.Linear(hidden_size, 2)\n",
        "\n",
        "  def forward(self, x):\n",
        "    x = self.emb[x]\n",
        "    h = torch.zeros(1, x.size(0), self.hidden_size)\n",
        "    out, _ = self.rnn(x, h)\n",
        "    out = self.fc(out[:, -1, :])\n",
        "    return out"
      ]
    },
    {
      "cell_type": "markdown",
      "metadata": {
        "id": "vKIYPl_Ba90_"
      },
      "source": [
        "## Part 3. Training [16 pt]\n",
        "\n",
        "### Part (a) [4 pt]\n",
        "\n",
        "Complete the `get_accuracy` function, which will compute the\n",
        "accuracy (rate) of your model across a dataset (e.g. validation set).\n",
        "You may modify `torchtext.data.BucketIterator` to make your computation\n",
        "faster."
      ]
    },
    {
      "cell_type": "code",
      "execution_count": null,
      "metadata": {
        "collapsed": true,
        "id": "pvNfhGD6a91A",
        "jupyter": {
          "outputs_hidden": true
        }
      },
      "outputs": [],
      "source": [
        "def get_accuracy(model, data, batch_size):\n",
        "    \"\"\" Compute the accuracy of the `model` across a dataset `data`\n",
        "\n",
        "    Example usage:\n",
        "\n",
        "    >>> model = MyRNN() # to be defined\n",
        "    >>> get_accuracy(model, valid) # the variable `valid` is from above\n",
        "    \"\"\"\n",
        "    correct = 0\n",
        "    total = 0\n",
        "\n",
        "    data_loader = torchtext.legacy.data.BucketIterator(data, batch_size=batch_size, sort_key=lambda x: len(x.sms), sort_within_batch=True, repeat=False)\n",
        "\n",
        "    for sms, label in data_loader:\n",
        "      output = model(sms[0])\n",
        "      prediction = output.max(1, keepdim=True)[1]\n",
        "      correct += prediction.eq(label.view_as(prediction)).sum().item()\n",
        "      total += label.shape[0]\n",
        "\n",
        "    accuracy = correct / total\n",
        "\n",
        "    return accuracy\n",
        ""
      ]
    },
    {
      "cell_type": "markdown",
      "metadata": {
        "id": "TlxlcAC1a91C"
      },
      "source": [
        "### Part (b) [4 pt]\n",
        "\n",
        "Train your model. Plot the training curve of your final model.\n",
        "Your training curve should have the training/validation loss and\n",
        "accuracy plotted periodically.\n",
        "\n",
        "Note: Not all of your batches will have the same batch size.\n",
        "In particular, if your training set does not divide evenly by\n",
        "your batch size, there will be a batch that is smaller than\n",
        "the rest."
      ]
    },
    {
      "cell_type": "code",
      "execution_count": null,
      "metadata": {
        "collapsed": true,
        "id": "CVtf7CJCa91D",
        "jupyter": {
          "outputs_hidden": true
        }
      },
      "outputs": [],
      "source": [
        "import matplotlib.pyplot as plt\n",
        "\n",
        "def train_network(model, train_data, valid_data, batch_size, num_epochs=5, learning_rate=1e-5):\n",
        "    criterion = nn.CrossEntropyLoss()\n",
        "    optimizer = torch.optim.Adam(model.parameters(), lr=learning_rate)\n",
        "    train_losses, train_acc, valid_losses, valid_acc = [], [], [], []\n",
        "    epochs = []\n",
        "\n",
        "    train_loader = torchtext.legacy.data.BucketIterator(train_data, batch_size=batch_size, sort_key=lambda x: len(x.sms), sort_within_batch=True, repeat=False)\n",
        "    valid_loader = torchtext.legacy.data.BucketIterator(valid_data, batch_size=batch_size, sort_key=lambda x: len(x.sms), sort_within_batch=True, repeat=False)\n",
        "\n",
        "    for epoch in range(num_epochs):\n",
        "        for sms, labels in train_loader:\n",
        "            optimizer.zero_grad()\n",
        "            pred = model(sms[0])\n",
        "            train_loss = criterion(pred, labels)\n",
        "            train_loss.backward()\n",
        "            optimizer.step()\n",
        "\n",
        "        train_losses.append(float(train_loss))\n",
        "\n",
        "        for sms, labels in valid_loader:\n",
        "            pred = model(sms[0])\n",
        "            val_loss = criterion(pred, labels)\n",
        "\n",
        "        epochs.append(epoch)\n",
        "        valid_losses.append(float(val_loss))\n",
        "\n",
        "        training_acc = get_accuracy(model, train_data, batch_size)\n",
        "        val_acc = get_accuracy(model, valid_data, batch_size)\n",
        "\n",
        "        train_acc.append(training_acc)\n",
        "        valid_acc.append(val_acc)\n",
        "        print(\"Epoch {}: \\tTraining Accuracy: {} Training Loss: {} \\nValidation Accuracy: {} Validation Loss: {}\".format(epoch+1, train_acc[-1], train_losses[-1], valid_acc[-1], valid_losses[-1]))\n",
        "\n",
        "        model_path = \"model_{0}_bs{1}_lr{2}_epoch{3}\".format(model.name, batch_size, learning_rate, epoch)\n",
        "        torch.save(model.state_dict(), model_path)\n",
        "\n",
        "    # plotting\n",
        "    plt.title(\"Training and Validation Losses Curve\")\n",
        "    plt.plot(train_losses, label=\"Train\")\n",
        "    plt.plot(valid_losses, label=\"Validation\")\n",
        "    plt.xlabel(\"Epoch\")\n",
        "    plt.ylabel(\"Loss\")\n",
        "    plt.show()\n",
        "\n",
        "    plt.title(\"Training and Validation Accuracy Curve\")\n",
        "    plt.plot(epochs, train_acc, label=\"Train\")\n",
        "    plt.plot(epochs, valid_acc, label=\"Validation\")\n",
        "    plt.xlabel(\"Epoch\")\n",
        "    plt.ylabel(\"Accuracy\")\n",
        "    plt.legend(loc='best')\n",
        "    plt.show()"
      ]
    },
    {
      "cell_type": "code",
      "source": [
        "# initial test using default hyperparameters\n",
        "model_initial = RNN(input_size, input_size)\n",
        "train_network(model_initial, train, valid, batch_size=64)"
      ],
      "metadata": {
        "colab": {
          "base_uri": "https://localhost:8080/",
          "height": 754
        },
        "id": "GYjJbul8ypYN",
        "outputId": "5495da40-07c3-43bc-c24d-5d3ae7e3f4de"
      },
      "execution_count": null,
      "outputs": [
        {
          "output_type": "stream",
          "name": "stdout",
          "text": [
            "Epoch 1: \tTraining Accuracy: 0.4878129663405737 Training Loss: 0.7096992135047913 \n",
            "Validation Accuracy: 0.8645739910313901 Validation Loss: 0.6867982745170593\n",
            "Epoch 2: \tTraining Accuracy: 0.4879787763223346 Training Loss: 0.741607129573822 \n",
            "Validation Accuracy: 0.863677130044843 Validation Loss: 0.6358000040054321\n",
            "Epoch 3: \tTraining Accuracy: 0.4967667053556624 Training Loss: 0.6716315746307373 \n",
            "Validation Accuracy: 0.8609865470852018 Validation Loss: 0.6974042654037476\n",
            "Epoch 4: \tTraining Accuracy: 0.5035649146078593 Training Loss: 0.7163069844245911 \n",
            "Validation Accuracy: 0.8600896860986547 Validation Loss: 0.6439145803451538\n",
            "Epoch 5: \tTraining Accuracy: 0.5130160835682308 Training Loss: 0.6600182056427002 \n",
            "Validation Accuracy: 0.8573991031390135 Validation Loss: 0.6439549326896667\n"
          ]
        },
        {
          "output_type": "display_data",
          "data": {
            "text/plain": [
              "<Figure size 432x288 with 1 Axes>"
            ],
            "image/png": "[encoded data removed]"
          },
          "metadata": {
            "needs_background": "light"
          }
        },
        {
          "output_type": "display_data",
          "data": {
            "text/plain": [
              "<Figure size 432x288 with 1 Axes>"
            ],
            "image/png": "[encoded data removed]"
          },
          "metadata": {
            "needs_background": "light"
          }
        }
      ]
    },
    {
      "cell_type": "markdown",
      "metadata": {
        "id": "fE3eRkDAa91F"
      },
      "source": [
        "### Part (c) [4 pt]\n",
        "\n",
        "Choose at least 4 hyperparameters to tune. Explain how you tuned the hyperparameters.\n",
        "You don't need to include your training curve for every model you trained.\n",
        "Instead, explain what hyperparemters you tuned, what the best validation accuracy was,\n",
        "and the reasoning behind the hyperparameter decisions you made.\n",
        "\n",
        "For this assignment, you should tune more than just your learning rate and epoch.\n",
        "Choose at least 2 hyperparameters that are unrelated to the optimizer."
      ]
    },
    {
      "cell_type": "code",
      "execution_count": null,
      "metadata": {
        "id": "A2GEWfDca91G",
        "jupyter": {
          "outputs_hidden": true
        },
        "colab": {
          "base_uri": "https://localhost:8080/",
          "height": 935
        },
        "outputId": "aedfb3ac-2f38-4ae2-b669-4a7a17269a6c"
      },
      "outputs": [
        {
          "output_type": "stream",
          "name": "stdout",
          "text": [
            "Epoch 1: \tTraining Accuracy: 0.5304261316531255 Training Loss: 0.6774702668190002 \n",
            "Validation Accuracy: 0.14260089686098654 Validation Loss: 0.6956191658973694\n",
            "Epoch 2: \tTraining Accuracy: 0.6982258331951583 Training Loss: 0.639227032661438 \n",
            "Validation Accuracy: 0.8008968609865471 Validation Loss: 0.6609143614768982\n",
            "Epoch 3: \tTraining Accuracy: 0.8618802851931686 Training Loss: 0.5074224472045898 \n",
            "Validation Accuracy: 0.8986547085201794 Validation Loss: 0.5531433820724487\n",
            "Epoch 4: \tTraining Accuracy: 0.9031669706516332 Training Loss: 0.15037724375724792 \n",
            "Validation Accuracy: 0.8726457399103139 Validation Loss: 0.5070065855979919\n",
            "Epoch 5: \tTraining Accuracy: 0.915271099320179 Training Loss: 0.357693612575531 \n",
            "Validation Accuracy: 0.915695067264574 Validation Loss: 0.3176175355911255\n",
            "Epoch 6: \tTraining Accuracy: 0.8937158016912619 Training Loss: 0.5128443837165833 \n",
            "Validation Accuracy: 0.9336322869955157 Validation Loss: 0.25745734572410583\n",
            "Epoch 7: \tTraining Accuracy: 0.923893218371746 Training Loss: 0.05525144934654236 \n",
            "Validation Accuracy: 0.9040358744394619 Validation Loss: 0.264870822429657\n",
            "Epoch 8: \tTraining Accuracy: 0.9169291991377881 Training Loss: 0.12608447670936584 \n",
            "Validation Accuracy: 0.9390134529147982 Validation Loss: 0.24726006388664246\n",
            "Epoch 9: \tTraining Accuracy: 0.9151052893384182 Training Loss: 0.056929830461740494 \n",
            "Validation Accuracy: 0.8834080717488789 Validation Loss: 0.26923325657844543\n",
            "Epoch 10: \tTraining Accuracy: 0.9209086387000498 Training Loss: 0.09698634594678879 \n",
            "Validation Accuracy: 0.9372197309417041 Validation Loss: 0.19096015393733978\n"
          ]
        },
        {
          "output_type": "display_data",
          "data": {
            "text/plain": [
              "<Figure size 432x288 with 1 Axes>"
            ],
            "image/png": "[encoded data removed]"
          },
          "metadata": {
            "needs_background": "light"
          }
        },
        {
          "output_type": "display_data",
          "data": {
            "text/plain": [
              "<Figure size 432x288 with 1 Axes>"
            ],
            "image/png": "[encoded data removed]"
          },
          "metadata": {
            "needs_background": "light"
          }
        }
      ],
      "source": [
        "# I changed the hidden size to 100 and increased the number of epoches to 10 to see how the model would perform at later iteration.\n",
        "# I also increased the learning_rate = to 0.00001 to see how the model would be changed if the learning rate was increased\n",
        "# to accelerate the rate at which the accuracy was increased.\n",
        "model1 = RNN(100, input_size)\n",
        "train_network(model1, train, valid, batch_size=64, num_epochs=10, learning_rate=0.0001)"
      ]
    },
    {
      "cell_type": "code",
      "source": [
        "model2 = RNN(100, input_size)\n",
        "train_network(model2, train, valid, batch_size=64, num_epochs=10, learning_rate=0.00001)\n",
        "# because of how noisy the previous graph was, I decided to decrease the learning rate back to the default value"
      ],
      "metadata": {
        "colab": {
          "base_uri": "https://localhost:8080/",
          "height": 935
        },
        "id": "xEhcq8qrsAXW",
        "outputId": "883e5b5e-353b-416b-c3b4-d86bc24b619b"
      },
      "execution_count": null,
      "outputs": [
        {
          "output_type": "stream",
          "name": "stdout",
          "text": [
            "Epoch 1: \tTraining Accuracy: 0.5199801028021886 Training Loss: 0.6687690615653992 \n",
            "Validation Accuracy: 0.13542600896860987 Validation Loss: 0.7052136063575745\n",
            "Epoch 2: \tTraining Accuracy: 0.5199801028021886 Training Loss: 0.6216972470283508 \n",
            "Validation Accuracy: 0.13542600896860987 Validation Loss: 0.7666424512863159\n",
            "Epoch 3: \tTraining Accuracy: 0.5199801028021886 Training Loss: 0.7267410159111023 \n",
            "Validation Accuracy: 0.13542600896860987 Validation Loss: 0.6888343691825867\n",
            "Epoch 4: \tTraining Accuracy: 0.5199801028021886 Training Loss: 0.6249945163726807 \n",
            "Validation Accuracy: 0.13542600896860987 Validation Loss: 0.7545378804206848\n",
            "Epoch 5: \tTraining Accuracy: 0.5199801028021886 Training Loss: 0.7356685996055603 \n",
            "Validation Accuracy: 0.13542600896860987 Validation Loss: 0.754019558429718\n",
            "Epoch 6: \tTraining Accuracy: 0.5199801028021886 Training Loss: 0.6418749094009399 \n",
            "Validation Accuracy: 0.13542600896860987 Validation Loss: 0.7300221920013428\n",
            "Epoch 7: \tTraining Accuracy: 0.5199801028021886 Training Loss: 0.653937041759491 \n",
            "Validation Accuracy: 0.13542600896860987 Validation Loss: 0.7353318333625793\n",
            "Epoch 8: \tTraining Accuracy: 0.5203117227657105 Training Loss: 0.6692186594009399 \n",
            "Validation Accuracy: 0.13542600896860987 Validation Loss: 0.7193636298179626\n",
            "Epoch 9: \tTraining Accuracy: 0.5226330625103631 Training Loss: 0.643440842628479 \n",
            "Validation Accuracy: 0.13542600896860987 Validation Loss: 0.721869170665741\n",
            "Epoch 10: \tTraining Accuracy: 0.5234621124191676 Training Loss: 0.7040796279907227 \n",
            "Validation Accuracy: 0.13542600896860987 Validation Loss: 0.7268420457839966\n"
          ]
        },
        {
          "output_type": "display_data",
          "data": {
            "text/plain": [
              "<Figure size 432x288 with 1 Axes>"
            ],
            "image/png": "[encoded data removed]"
          },
          "metadata": {
            "needs_background": "light"
          }
        },
        {
          "output_type": "display_data",
          "data": {
            "text/plain": [
              "<Figure size 432x288 with 1 Axes>"
            ],
            "image/png": "[encoded data removed]"
          },
          "metadata": {
            "needs_background": "light"
          }
        }
      ]
    },
    {
      "cell_type": "code",
      "source": [
        "class RNN_new(nn.Module):\n",
        "  def __init__(self, hidden_size, input_size):\n",
        "    super(RNN_new, self).__init__()\n",
        "    self.name = \"RNN_new\"\n",
        "    self.emb = torch.eye(input_size)\n",
        "    self.hidden_size = hidden_size\n",
        "    self.rnn = nn.RNN(input_size, hidden_size, batch_first=True)\n",
        "    self.fc = nn.Linear(hidden_size, 2)\n",
        "\n",
        "  def forward(self, x):\n",
        "    x = self.emb[x]\n",
        "    h = torch.zeros(1, x.size(0), self.hidden_size)\n",
        "    out, _ = self.rnn(x, h)\n",
        "    out = self.fc(torch.max(out, dim=1)[0])\n",
        "    return out"
      ],
      "metadata": {
        "id": "Uh5CdqIa2uUV"
      },
      "execution_count": null,
      "outputs": []
    },
    {
      "cell_type": "code",
      "source": [
        "# In my third test, I used a new model with a maxpooling layer and used the same parameters from the initial test, since\n",
        "# those produced the best results thus far.\n",
        "model3 = RNN_new(input_size, input_size)\n",
        "train_network(model3, train, valid, batch_size=64)"
      ],
      "metadata": {
        "colab": {
          "base_uri": "https://localhost:8080/",
          "height": 754
        },
        "id": "PdpqKDK6sAq0",
        "outputId": "0036d9df-0695-4f1b-9ffe-133e23ca00e0"
      },
      "execution_count": null,
      "outputs": [
        {
          "output_type": "stream",
          "name": "stdout",
          "text": [
            "Epoch 1: \tTraining Accuracy: 0.5199801028021886 Training Loss: 0.6731995344161987 \n",
            "Validation Accuracy: 0.13452914798206278 Validation Loss: 0.7029852867126465\n",
            "Epoch 2: \tTraining Accuracy: 0.5199801028021886 Training Loss: 0.6264525055885315 \n",
            "Validation Accuracy: 0.13452914798206278 Validation Loss: 0.7620802521705627\n",
            "Epoch 3: \tTraining Accuracy: 0.5199801028021886 Training Loss: 0.7316845059394836 \n",
            "Validation Accuracy: 0.13452914798206278 Validation Loss: 0.6873581409454346\n",
            "Epoch 4: \tTraining Accuracy: 0.5199801028021886 Training Loss: 0.6320213079452515 \n",
            "Validation Accuracy: 0.13452914798206278 Validation Loss: 0.7587194442749023\n",
            "Epoch 5: \tTraining Accuracy: 0.5199801028021886 Training Loss: 0.7408202886581421 \n",
            "Validation Accuracy: 0.13452914798206278 Validation Loss: 0.7616016268730164\n"
          ]
        },
        {
          "output_type": "display_data",
          "data": {
            "text/plain": [
              "<Figure size 432x288 with 1 Axes>"
            ],
            "image/png": "[encoded data removed]"
          },
          "metadata": {
            "needs_background": "light"
          }
        },
        {
          "output_type": "display_data",
          "data": {
            "text/plain": [
              "<Figure size 432x288 with 1 Axes>"
            ],
            "image/png": "[encoded data removed]"
          },
          "metadata": {
            "needs_background": "light"
          }
        }
      ]
    },
    {
      "cell_type": "code",
      "source": [
        "# For the fourth test, I decided to re-use the new model but increase both the number of epochs and\n",
        "# learning rate to see how the accuracy would be improved."
      ],
      "metadata": {
        "id": "jGeiwHln7M3J"
      },
      "execution_count": null,
      "outputs": []
    },
    {
      "cell_type": "code",
      "source": [
        "model4 = RNN_new(input_size, input_size)\n",
        "train_network(model4, train, valid, batch_size=64, num_epochs=20, learning_rate=0.0001)"
      ],
      "metadata": {
        "colab": {
          "base_uri": "https://localhost:8080/",
          "height": 1000
        },
        "id": "wfyYxsfysBbK",
        "outputId": "45922708-beda-438e-df01-51b4a6ea5080"
      },
      "execution_count": null,
      "outputs": [
        {
          "output_type": "stream",
          "name": "stdout",
          "text": [
            "Epoch 1: \tTraining Accuracy: 0.6028850936826397 Training Loss: 0.6890957355499268 \n",
            "Validation Accuracy: 0.8816143497757848 Validation Loss: 0.6834397912025452\n",
            "Epoch 2: \tTraining Accuracy: 0.7927375227988724 Training Loss: 0.6344205141067505 \n",
            "Validation Accuracy: 0.6313901345291479 Validation Loss: 0.6885555982589722\n",
            "Epoch 3: \tTraining Accuracy: 0.5571215387166307 Training Loss: 0.6832975149154663 \n",
            "Validation Accuracy: 0.20538116591928252 Validation Loss: 0.6304253935813904\n",
            "Epoch 4: \tTraining Accuracy: 0.9399767866025535 Training Loss: 0.40191373229026794 \n",
            "Validation Accuracy: 0.8834080717488789 Validation Loss: 0.635581374168396\n",
            "Epoch 5: \tTraining Accuracy: 0.9283700878792903 Training Loss: 0.46885061264038086 \n",
            "Validation Accuracy: 0.915695067264574 Validation Loss: 0.496046245098114\n",
            "Epoch 6: \tTraining Accuracy: 0.9376554468579008 Training Loss: 0.3499974310398102 \n",
            "Validation Accuracy: 0.9524663677130045 Validation Loss: 0.4398140609264374\n",
            "Epoch 7: \tTraining Accuracy: 0.939147736693749 Training Loss: 0.1756773442029953 \n",
            "Validation Accuracy: 0.9434977578475336 Validation Loss: 0.4334680438041687\n",
            "Epoch 8: \tTraining Accuracy: 0.9016746808157851 Training Loss: 0.3707258403301239 \n",
            "Validation Accuracy: 0.9542600896860987 Validation Loss: 0.30710136890411377\n",
            "Epoch 9: \tTraining Accuracy: 0.9532415851434256 Training Loss: 0.11469585448503494 \n",
            "Validation Accuracy: 0.9201793721973094 Validation Loss: 0.5413030982017517\n",
            "Epoch 10: \tTraining Accuracy: 0.9539048250704693 Training Loss: 0.19292977452278137 \n",
            "Validation Accuracy: 0.9417040358744395 Validation Loss: 0.23004499077796936\n",
            "Epoch 11: \tTraining Accuracy: 0.9353341071132483 Training Loss: 0.2987648844718933 \n",
            "Validation Accuracy: 0.9668161434977578 Validation Loss: 0.13624317944049835\n",
            "Epoch 12: \tTraining Accuracy: 0.9555629248880783 Training Loss: 0.12758442759513855 \n",
            "Validation Accuracy: 0.9560538116591928 Validation Loss: 0.18428930640220642\n",
            "Epoch 13: \tTraining Accuracy: 0.949262145581164 Training Loss: 0.08442869037389755 \n",
            "Validation Accuracy: 0.9605381165919282 Validation Loss: 0.12572088837623596\n",
            "Epoch 14: \tTraining Accuracy: 0.9585475045597744 Training Loss: 0.20262600481510162 \n",
            "Validation Accuracy: 0.9336322869955157 Validation Loss: 0.3653664290904999\n",
            "Epoch 15: \tTraining Accuracy: 0.9588791245232963 Training Loss: 0.12820501625537872 \n",
            "Validation Accuracy: 0.95695067264574 Validation Loss: 0.1885060966014862\n",
            "Epoch 16: \tTraining Accuracy: 0.9605372243409053 Training Loss: 0.14445103704929352 \n",
            "Validation Accuracy: 0.95695067264574 Validation Loss: 0.12300515174865723\n",
            "Epoch 17: \tTraining Accuracy: 0.9607030343226662 Training Loss: 0.10662851482629776 \n",
            "Validation Accuracy: 0.9354260089686098 Validation Loss: 0.31784653663635254\n",
            "Epoch 18: \tTraining Accuracy: 0.9645166639031669 Training Loss: 0.12165569514036179 \n",
            "Validation Accuracy: 0.9515695067264573 Validation Loss: 0.1331126093864441\n",
            "Epoch 19: \tTraining Accuracy: 0.9668380036478196 Training Loss: 0.16529522836208344 \n",
            "Validation Accuracy: 0.957847533632287 Validation Loss: 0.10355495661497116\n",
            "Epoch 20: \tTraining Accuracy: 0.9646824738849279 Training Loss: 0.37570443749427795 \n",
            "Validation Accuracy: 0.947085201793722 Validation Loss: 0.09032230824232101\n"
          ]
        },
        {
          "output_type": "display_data",
          "data": {
            "text/plain": [
              "<Figure size 432x288 with 1 Axes>"
            ],
            "image/png": "[encoded data removed]"
          },
          "metadata": {
            "needs_background": "light"
          }
        },
        {
          "output_type": "display_data",
          "data": {
            "text/plain": [
              "<Figure size 432x288 with 1 Axes>"
            ],
            "image/png": "[encoded data removed]"
          },
          "metadata": {
            "needs_background": "light"
          }
        }
      ]
    },
    {
      "cell_type": "code",
      "source": [
        "# The final accuracy from the previous test was really good, but I tried lowering the learning rate to help with the\n",
        "# noisiness of the graph.\n",
        "model5 = RNN_new(input_size, input_size)\n",
        "train_network(model5, train, valid, batch_size=64, num_epochs=20, learning_rate=0.00005)"
      ],
      "metadata": {
        "colab": {
          "base_uri": "https://localhost:8080/",
          "height": 1000
        },
        "id": "KqwoDOCTsBy8",
        "outputId": "393ad9d7-9e41-4e28-c9ef-7c5a2eadd7c7"
      },
      "execution_count": null,
      "outputs": [
        {
          "output_type": "stream",
          "name": "stdout",
          "text": [
            "Epoch 1: \tTraining Accuracy: 0.5201459127839496 Training Loss: 0.6633753180503845 \n",
            "Validation Accuracy: 0.13452914798206278 Validation Loss: 0.719833254814148\n",
            "Epoch 2: \tTraining Accuracy: 0.5199801028021886 Training Loss: 0.7260542511940002 \n",
            "Validation Accuracy: 0.13452914798206278 Validation Loss: 0.6968817114830017\n",
            "Epoch 3: \tTraining Accuracy: 0.5468413198474548 Training Loss: 0.6662924885749817 \n",
            "Validation Accuracy: 0.18206278026905828 Validation Loss: 0.7072526812553406\n",
            "Epoch 4: \tTraining Accuracy: 0.5398773006134969 Training Loss: 0.6271592378616333 \n",
            "Validation Accuracy: 0.17219730941704037 Validation Loss: 0.7105566263198853\n",
            "Epoch 5: \tTraining Accuracy: 0.5698889073122202 Training Loss: 0.7037004828453064 \n",
            "Validation Accuracy: 0.23139013452914797 Validation Loss: 0.7072412967681885\n",
            "Epoch 6: \tTraining Accuracy: 0.6367103299618637 Training Loss: 0.6817551255226135 \n",
            "Validation Accuracy: 0.357847533632287 Validation Loss: 0.6956121325492859\n",
            "Epoch 7: \tTraining Accuracy: 0.8895705521472392 Training Loss: 0.5320401787757874 \n",
            "Validation Accuracy: 0.8026905829596412 Validation Loss: 0.6747747659683228\n",
            "Epoch 8: \tTraining Accuracy: 0.9094677499585475 Training Loss: 0.5988730192184448 \n",
            "Validation Accuracy: 0.9381165919282511 Validation Loss: 0.570115327835083\n",
            "Epoch 9: \tTraining Accuracy: 0.93748963687614 Training Loss: 0.2413746565580368 \n",
            "Validation Accuracy: 0.9255605381165919 Validation Loss: 0.5238213539123535\n",
            "Epoch 10: \tTraining Accuracy: 0.9260487481346377 Training Loss: 0.4568614959716797 \n",
            "Validation Accuracy: 0.9524663677130045 Validation Loss: 0.34572023153305054\n",
            "Epoch 11: \tTraining Accuracy: 0.9482672856905986 Training Loss: 0.28779861330986023 \n",
            "Validation Accuracy: 0.9479820627802691 Validation Loss: 0.4230535328388214\n",
            "Epoch 12: \tTraining Accuracy: 0.9462775659094678 Training Loss: 0.3683505654335022 \n",
            "Validation Accuracy: 0.9273542600896861 Validation Loss: 0.3589155077934265\n",
            "Epoch 13: \tTraining Accuracy: 0.9112916597579174 Training Loss: 0.202710822224617 \n",
            "Validation Accuracy: 0.8215246636771301 Validation Loss: 0.6687984466552734\n",
            "Epoch 14: \tTraining Accuracy: 0.9482672856905986 Training Loss: 0.17609421908855438 \n",
            "Validation Accuracy: 0.9587443946188341 Validation Loss: 0.35765334963798523\n",
            "Epoch 15: \tTraining Accuracy: 0.9464433758912286 Training Loss: 0.3179641664028168 \n",
            "Validation Accuracy: 0.9596412556053812 Validation Loss: 0.24630692601203918\n",
            "Epoch 16: \tTraining Accuracy: 0.9535732051069474 Training Loss: 0.25928664207458496 \n",
            "Validation Accuracy: 0.9461883408071748 Validation Loss: 0.2853289246559143\n",
            "Epoch 17: \tTraining Accuracy: 0.9534073951251866 Training Loss: 0.20633961260318756 \n",
            "Validation Accuracy: 0.9587443946188341 Validation Loss: 0.18036851286888123\n",
            "Epoch 18: \tTraining Accuracy: 0.9552313049245564 Training Loss: 0.25065717101097107 \n",
            "Validation Accuracy: 0.9461883408071748 Validation Loss: 0.19753430783748627\n",
            "Epoch 19: \tTraining Accuracy: 0.9464433758912286 Training Loss: 0.08399907499551773 \n",
            "Validation Accuracy: 0.9623318385650225 Validation Loss: 0.1581980288028717\n",
            "Epoch 20: \tTraining Accuracy: 0.9548996849610346 Training Loss: 0.16841444373130798 \n",
            "Validation Accuracy: 0.9641255605381166 Validation Loss: 0.16450171172618866\n"
          ]
        },
        {
          "output_type": "display_data",
          "data": {
            "text/plain": [
              "<Figure size 432x288 with 1 Axes>"
            ],
            "image/png": "[encoded data removed]"
          },
          "metadata": {
            "needs_background": "light"
          }
        },
        {
          "output_type": "display_data",
          "data": {
            "text/plain": [
              "<Figure size 432x288 with 1 Axes>"
            ],
            "image/png": "[encoded data removed]"
          },
          "metadata": {
            "needs_background": "light"
          }
        }
      ]
    },
    {
      "cell_type": "code",
      "source": [
        "# In the end, the best validation accuracy that I achieved was 0.9641255605381166 and the best training accuracy was 0.9383186867849445."
      ],
      "metadata": {
        "id": "0DsFQdav8z9w"
      },
      "execution_count": null,
      "outputs": []
    },
    {
      "cell_type": "markdown",
      "metadata": {
        "id": "v7DY56rKa91I"
      },
      "source": [
        "### Part (d) [2 pt]\n",
        "\n",
        "Before we deploy a machine learning model, we usually want to have a better understanding\n",
        "of how our model performs beyond its validation accuracy. An important metric to track is\n",
        "*how well our model performs in certain subsets of the data*.\n",
        "\n",
        "In particular, what is the model's error rate amongst data with negative labels?\n",
        "This is called the **false positive rate**.\n",
        "\n",
        "What about the model's error rate amongst data with positive labels?\n",
        "This is called the **false negative rate**.\n",
        "\n",
        "Report your final model's false positive and false negative rate across the\n",
        "validation set."
      ]
    },
    {
      "cell_type": "code",
      "execution_count": null,
      "metadata": {
        "id": "7ggbQSdba91J",
        "jupyter": {
          "outputs_hidden": true
        },
        "colab": {
          "base_uri": "https://localhost:8080/"
        },
        "outputId": "e4cb542c-3149-4825-9601-77c24d300d3f"
      },
      "outputs": [
        {
          "output_type": "stream",
          "name": "stdout",
          "text": [
            "The False Positive rate is: 4.666666666666663 %\n",
            "The False Negative rate is: 3.5233160621761628 %\n"
          ]
        }
      ],
      "source": [
        "# Create a Dataset of only spam validation examples\n",
        "valid_spam = torchtext.legacy.data.Dataset(\n",
        "    [e for e in valid.examples if e.label == 1],\n",
        "    valid.fields)\n",
        "# Create a Dataset of only non-spam validation examples\n",
        "valid_nospam = torchtext.legacy.data.Dataset([e for e in valid.examples if e.label == 0], valid.fields)\n",
        "\n",
        "valid_false_positive = 1 - get_accuracy(model5, valid_spam, batch_size=64)\n",
        "valid_false_negative = 1 - get_accuracy(model5, valid_nospam, batch_size=64)\n",
        "\n",
        "print(\"The False Positive rate is: {} %\".format(valid_false_positive*100))\n",
        "print(\"The False Negative rate is: {} %\".format(valid_false_negative*100))"
      ]
    },
    {
      "cell_type": "markdown",
      "metadata": {
        "id": "N1iRteb3a91O"
      },
      "source": [
        "### Part (e) [2 pt]\n",
        "\n",
        "The impact of a false positive vs a false negative can be drastically different.\n",
        "If our spam detection algorithm was deployed on your phone, what is the impact\n",
        "of a false positive on the phone's user? What is the impact of a false negative?"
      ]
    },
    {
      "cell_type": "code",
      "execution_count": null,
      "metadata": {
        "collapsed": true,
        "id": "hFLUOJTGa91Q",
        "jupyter": {
          "outputs_hidden": true
        }
      },
      "outputs": [],
      "source": [
        "# A false positive could cause actual sms messages to be classified as spam and be blocked or sent to a spam folder,\n",
        "# resulting in the user losing out on important information. This could prove to be very dangerous in the case of a\n",
        "# message regarding someone's health or even a job offer.\n",
        "\n",
        "# On the other hand, a false negative could allow spam messages to pass through to a user's inbox, resulting in the\n",
        "# user receiving unwanted and harmful messages.\n",
        "\n",
        "# Therefore, a false positive could cause a user to miss out on impportant information while a false negative could cause a user to\n",
        "# receive unwanted/harmful messages."
      ]
    },
    {
      "cell_type": "markdown",
      "metadata": {
        "id": "Gznefulsa91V"
      },
      "source": [
        "## Part 4. Evaluation [11 pt]\n",
        "\n",
        "### Part (a) [1 pt]\n",
        "\n",
        "Report the final test accuracy of your model."
      ]
    },
    {
      "cell_type": "code",
      "execution_count": null,
      "metadata": {
        "id": "D5L5D-A1a91W",
        "jupyter": {
          "outputs_hidden": true
        },
        "colab": {
          "base_uri": "https://localhost:8080/"
        },
        "outputId": "777ff0e3-2283-418f-a389-dd922bc47ec7"
      },
      "outputs": [
        {
          "output_type": "stream",
          "name": "stdout",
          "text": [
            "The final test accuracy is 96.67863554757629 %.\n"
          ]
        }
      ],
      "source": [
        "test_accuracy = get_accuracy(model5, test, batch_size=64)\n",
        "\n",
        "print(\"The final test accuracy is {} %.\".format(test_accuracy*100))"
      ]
    },
    {
      "cell_type": "markdown",
      "metadata": {
        "id": "6Hjmd8rca91Y"
      },
      "source": [
        "### Part (b) [3 pt]\n",
        "\n",
        "Report the false positive rate and false negative rate of your model across the test set."
      ]
    },
    {
      "cell_type": "code",
      "execution_count": null,
      "metadata": {
        "collapsed": true,
        "id": "GFiAKztJa91Z",
        "jupyter": {
          "outputs_hidden": true
        },
        "colab": {
          "base_uri": "https://localhost:8080/"
        },
        "outputId": "23315732-0ea7-4f87-ca06-2c3cf7bf0dc7"
      },
      "outputs": [
        {
          "output_type": "stream",
          "name": "stdout",
          "text": [
            "The False Positive rate is: 6.711409395973156 %\n",
            "The False Negative rate is: 2.797927461139893 %\n"
          ]
        }
      ],
      "source": [
        "# Create a Dataset of only spam validation examples\n",
        "test_spam = torchtext.legacy.data.Dataset(\n",
        "    [e for e in test.examples if e.label == 1],\n",
        "    valid.fields)\n",
        "# Create a Dataset of only non-spam validation examples\n",
        "test_nospam = torchtext.legacy.data.Dataset([e for e in test.examples if e.label == 0], valid.fields)\n",
        "\n",
        "test_false_positive = 1 - get_accuracy(model5, test_spam, batch_size=64)\n",
        "test_false_negative = 1 - get_accuracy(model5, test_nospam, batch_size=64)\n",
        "\n",
        "print(\"The False Positive rate is: {} %\".format(test_false_positive*100))\n",
        "print(\"The False Negative rate is: {} %\".format(test_false_negative*100))"
      ]
    },
    {
      "cell_type": "markdown",
      "metadata": {
        "id": "0jGHtQFpa91b"
      },
      "source": [
        "### Part (c) [3 pt]\n",
        "\n",
        "What is your model's prediction of the **probability** that\n",
        "the SMS message \"machine learning is sooo cool!\" is spam?\n",
        "\n",
        "Hint: To begin, use `text_field.vocab.stoi` to look up the index\n",
        "of each character in the vocabulary."
      ]
    },
    {
      "cell_type": "code",
      "execution_count": null,
      "metadata": {
        "collapsed": true,
        "id": "h_2nSJq8a91b",
        "jupyter": {
          "outputs_hidden": true
        },
        "colab": {
          "base_uri": "https://localhost:8080/"
        },
        "outputId": "0eec44d8-6e0f-4f0b-bce4-d5ad248cd7b0"
      },
      "outputs": [
        {
          "output_type": "stream",
          "name": "stdout",
          "text": [
            "tensor([[0.8436, 0.1564]], grad_fn=<SoftmaxBackward>)\n"
          ]
        }
      ],
      "source": [
        "msg = \"machine learning is sooo cool!\"\n",
        "sms_indexes = []\n",
        "\n",
        "for n in msg:\n",
        "  index = text_field.vocab.stoi[n]\n",
        "  sms_indexes.append(index)\n",
        "\n",
        "sms_tens = torch.tensor(sms_indexes)\n",
        "sms_tens = sms_tens.unsqueeze(0)\n",
        "\n",
        "final_prediction = model5(sms_tens)\n",
        "final_prediction = F.softmax(final_prediction, dim=1)\n",
        "\n",
        "print(final_prediction)"
      ]
    },
    {
      "cell_type": "code",
      "source": [
        "# Therefore, my model predicted a 15.64% chance that the message is a spam which is not optimal.\n",
        "# The message we were given is obviously not a spam message, so this outcome is a bit misleading."
      ],
      "metadata": {
        "id": "Q1IK7gX_EMlt"
      },
      "execution_count": null,
      "outputs": []
    },
    {
      "cell_type": "markdown",
      "metadata": {
        "id": "QD1zgYJpa91f"
      },
      "source": [
        "### Part (d) [4 pt]\n",
        "\n",
        "Do you think detecting spam is an easy or difficult task?\n",
        "\n",
        "Since machine learning models are expensive to train and deploy, it is very\n",
        "important to compare our models against baseline models: a simple\n",
        "model that is easy to build and inexpensive to run that we can compare our\n",
        "recurrent neural network model against.\n",
        "\n",
        "Explain how you might build a simple baseline model. This baseline model\n",
        "can be a simple neural network (with very few weights), a hand-written algorithm,\n",
        "or any other strategy that is easy to build and test.\n",
        "\n",
        "**Do not actually build a baseline model. Instead, provide instructions on\n",
        "how to build it.**"
      ]
    },
    {
      "cell_type": "code",
      "execution_count": null,
      "metadata": {
        "collapsed": true,
        "id": "LTndp-IOa91g",
        "jupyter": {
          "outputs_hidden": true
        }
      },
      "outputs": [],
      "source": [
        "# I personally believe that at a level such as this, where the task of detecting spams is made into a simple binary classification problem,\n",
        "# the task is relatively easy and high accuracy scores can be achieved through the use of reccurent neural networks. However, once different\n",
        "# techniques such as message customization are used to evade detection and the sheer volume of spam messages are taken into account, I believe\n",
        "# that the task of detecting spam messages becomes much more difficult.\n",
        "\n",
        "# Since this is a binary classification problem, a simple baseline model would be to use a decision tree. We could achieve such a model by\n",
        "# collecting data and extracting features from it to divide them into two different classes: spam or not spam. This would prove to be a relatively\n",
        "# inexpensive model which could be used to benchmark the RNN."
      ]
    }
  ],
  "metadata": {
    "colab": {
      "provenance": []
    },
    "kernelspec": {
      "display_name": "Python 3 (ipykernel)",
      "language": "python",
      "name": "python3"
    },
    "language_info": {
      "codemirror_mode": {
        "name": "ipython",
        "version": 3
      },
      "file_extension": ".py",
      "mimetype": "text/x-python",
      "name": "python",
      "nbconvert_exporter": "python",
      "pygments_lexer": "ipython3",
      "version": "3.9.4"
    }
  },
  "nbformat": 4,
  "nbformat_minor": 0
}